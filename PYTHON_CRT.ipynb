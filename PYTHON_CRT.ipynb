{
  "nbformat": 4,
  "nbformat_minor": 0,
  "metadata": {
    "colab": {
      "provenance": [],
      "authorship_tag": "ABX9TyM/ol7BYGj/wCM3Atui76kf",
      "include_colab_link": true
    },
    "kernelspec": {
      "name": "python3",
      "display_name": "Python 3"
    },
    "language_info": {
      "name": "python"
    }
  },
  "cells": [
    {
      "cell_type": "markdown",
      "metadata": {
        "id": "view-in-github",
        "colab_type": "text"
      },
      "source": [
        "<a href=\"https://colab.research.google.com/github/Samuyel-256/PYTHON-CRT/blob/main/PYTHON_CRT.ipynb\" target=\"_parent\"><img src=\"https://colab.research.google.com/assets/colab-badge.svg\" alt=\"Open In Colab\"/></a>"
      ]
    },
    {
      "cell_type": "code",
      "source": [
        "# How to run python on vs Code :\n",
        "\n",
        "# first we have to save a file in the name of .py in vs code and next click on terminal and new terminal in that we type \"PYTHON FILENAME.PY\" to run code in vs code"
      ],
      "metadata": {
        "id": "uslCp0J_MZnm"
      },
      "execution_count": null,
      "outputs": []
    },
    {
      "cell_type": "code",
      "source": [
        "# INPUT & OUTPUT FUNCTIONS :\n",
        "\n",
        "#-------------------------------------------------------------#\n",
        "\n",
        "# How to take Input function :\n",
        "\n",
        "# variable=input()\n",
        "\n",
        "#-------------------------------------------------------------#\n",
        "\n",
        "# How to take Output function :\n",
        "\n",
        "# To get the output we use : print() function\n",
        "\n",
        "# EX : for input and output function\n",
        "\n",
        "#-------------------------------------------------------------#\n",
        "\n",
        "a=input()\n",
        "print(a)"
      ],
      "metadata": {
        "colab": {
          "base_uri": "https://localhost:8080/",
          "height": 0
        },
        "id": "Cd6nGJCUNLLM",
        "outputId": "792f2897-76d5-49f7-fa4a-07d0df83cf6d"
      },
      "execution_count": 11,
      "outputs": [
        {
          "output_type": "stream",
          "name": "stdout",
          "text": [
            "samuyel\n",
            "samuyel\n"
          ]
        }
      ]
    },
    {
      "cell_type": "code",
      "source": [
        "# VARIABLES :\n",
        "\n",
        "# # It is used to store the data.\n",
        "# It is a container to store data so that we can use for further statements\n",
        "\n",
        "# EX :\n",
        "\n",
        "lp1=50000\n",
        "lp2=60000\n",
        "sum=lp1+lp2\n",
        "print(sum)\n",
        "\n",
        "# Here lp1 and lp2 are the variables to store the data"
      ],
      "metadata": {
        "colab": {
          "base_uri": "https://localhost:8080/",
          "height": 0
        },
        "id": "H8rF1Xl3OnrR",
        "outputId": "4e9daa80-d06b-4c50-e308-6352eb2b56ec"
      },
      "execution_count": 10,
      "outputs": [
        {
          "output_type": "stream",
          "name": "stdout",
          "text": [
            "110000\n"
          ]
        }
      ]
    },
    {
      "cell_type": "code",
      "source": [
        "# DATA TYPES IN PYTHON :\n",
        "\n",
        "# 1. INT     : 1,-1,3 ( also called integer )\n",
        "# 2. FLOAT   : 1.24 , -3.14\n",
        "# 3. STRING  : samuyel , SAMUYEL\n",
        "# 4. BOOLEAN : true / false\n",
        "\n",
        "# EX :\n",
        "\n",
        "# INT\n",
        "age = 20\n",
        "\n",
        "# FLOAT\n",
        "height = 5.9\n",
        "\n",
        "# STRING\n",
        "name = \"Samuyel\"\n",
        "\n",
        "# BOOLEAN\n",
        "is_adult = age >= 18\n",
        "\n",
        "# OUTPUT\n",
        "print(\"Name        :\", name)\n",
        "print(\"Age         :\", age)\n",
        "print(\"Height (ft) :\", height)\n",
        "print(\"Is Adult?   :\", is_adult)\n"
      ],
      "metadata": {
        "colab": {
          "base_uri": "https://localhost:8080/",
          "height": 0
        },
        "id": "YQLp0aihOoSt",
        "outputId": "9b27b3b9-6e31-4be5-fe9a-4ebddfa8e2dd"
      },
      "execution_count": 12,
      "outputs": [
        {
          "output_type": "stream",
          "name": "stdout",
          "text": [
            "Name        : Samuyel\n",
            "Age         : 20\n",
            "Height (ft) : 5.9\n",
            "Is Adult?   : True\n"
          ]
        }
      ]
    },
    {
      "cell_type": "code",
      "source": [
        "# # # CONDITIONS IN PYTHON :\n",
        "\n",
        "#-------------------------------------------------------------#\n",
        "\n",
        "# TYPES :\n",
        "# 1. IF CONDITION\n",
        "# 2. ELSE CONDITION\n",
        "# 3. ELIF CONDITION\n",
        "# 4. NESTED IF CONDITION (IF ELIF ELSE)\n",
        "\n",
        "#-------------------------------------------------------------#\n",
        "\n",
        "# # IF CONDITION :\n",
        "# if is used to run code only when a certain condition is true.\n",
        "\n",
        "# # ELIF CONDITION :\n",
        "# elif (else if) is used when you want to check multiple conditions one after another.\n",
        "\n",
        "# # NESTED IF CONDITION\n",
        "# Nested if means placing one if, elif, or else inside another — like decision inside a decision.\n",
        "\n",
        "# # ELSE CONDITION\n",
        "# else is used to run code when all the above conditions fail. It's like the final \"otherwise\" block.\n",
        "\n",
        "#-------------------------------------------------------------#\n",
        "\n",
        "# Syntax :\n",
        "\n",
        "#  if Condition :\n",
        "#      block of statement\n",
        "#  elif condition :\n",
        "#      block of statement\n",
        "#  else :\n",
        "#      block of statement\n",
        "\n",
        "#-------------------------------------------------------------#\n",
        "\n",
        "#EX :\n",
        "age = int(input())\n",
        "if age>=18:\n",
        "  print(\"eligible for voting\")\n",
        "else:\n",
        "  print(\"not eligible for voting\")\n",
        "\n",
        ""
      ],
      "metadata": {
        "colab": {
          "base_uri": "https://localhost:8080/",
          "height": 0
        },
        "id": "6Wha7MdcOoc0",
        "outputId": "b6d0e36a-ed45-47af-eb37-95ec69e8d10b"
      },
      "execution_count": 16,
      "outputs": [
        {
          "output_type": "stream",
          "name": "stdout",
          "text": [
            "-1\n",
            "not eligible for voting\n"
          ]
        }
      ]
    },
    {
      "cell_type": "code",
      "source": [
        "# TO FIND THE SECOND MAXIMUM NUMBER :\n",
        "\n",
        "a,b,c=map(int,input().split())\n",
        "\n",
        "if (a > b and a < c) or (a < b and a > c):\n",
        "    print(\"Second maximum is:\", a)\n",
        "elif (b > a and b < c) or (b < a and b > c):\n",
        "    print(\"Second maximum is:\", b)\n",
        "else:\n",
        "    print(\"Second maximum is:\",c)"
      ],
      "metadata": {
        "colab": {
          "base_uri": "https://localhost:8080/",
          "height": 0
        },
        "id": "aMGk6GALOokh",
        "outputId": "b7f823ad-f480-4cb9-e4b4-ab62e3e6ee0d"
      },
      "execution_count": 18,
      "outputs": [
        {
          "output_type": "stream",
          "name": "stdout",
          "text": [
            "1 2 3\n",
            "Second maximum is: 2\n"
          ]
        }
      ]
    },
    {
      "cell_type": "code",
      "source": [
        "# TO FIND SCHOLAR SHIP USING NESTED IF :\n",
        "\n",
        "marks = int(input(\"Enter marks: \"))\n",
        "income = int(input(\"Enter income: \"))\n",
        "\n",
        "if marks > 85:\n",
        "    if income > 200000 and income < 500000:\n",
        "        print(\"You are eligible for scholarship\")\n",
        "else:\n",
        "    print(\"Not eligible\")"
      ],
      "metadata": {
        "colab": {
          "base_uri": "https://localhost:8080/",
          "height": 0
        },
        "id": "9sieLhZ3OoqV",
        "outputId": "be2ecfe4-4a85-4bb1-b61f-12f98742a0bf"
      },
      "execution_count": 19,
      "outputs": [
        {
          "output_type": "stream",
          "name": "stdout",
          "text": [
            "Enter marks: 87\n",
            "Enter income: 300000\n",
            "You are eligible for scholarship\n"
          ]
        }
      ]
    },
    {
      "cell_type": "code",
      "source": [
        "# AGE :\n",
        "\n",
        "a = int(input(\"enter age : \"))\n",
        "if a >= 1 and  a <= 12 :\n",
        "    print(\"child\")\n",
        "elif a >= 13 and  a <= 19:\n",
        "    print(\"teen age\")\n",
        "elif a >= 20 and  a <= 35:\n",
        "    print(\"young\")\n",
        "else:\n",
        "    print(\"old\")"
      ],
      "metadata": {
        "colab": {
          "base_uri": "https://localhost:8080/",
          "height": 0
        },
        "id": "dr6rkisUOot4",
        "outputId": "e54a8b33-13fb-4b2e-cc4d-5fac4309941b"
      },
      "execution_count": 12,
      "outputs": [
        {
          "output_type": "stream",
          "name": "stdout",
          "text": [
            "enter age : 55\n",
            "old\n"
          ]
        }
      ]
    },
    {
      "cell_type": "code",
      "execution_count": null,
      "metadata": {
        "id": "3076pV8UJlYT"
      },
      "outputs": [],
      "source": [
        "# # LOOPS :\n",
        "\n",
        "# #-------------------------------------------------------------#\n",
        "\n",
        "# # UNIVERSAL LANGUAGE SYNTAX FOR \"C\"\n",
        "# # for (initialisation;condition;step) {\n",
        "# #     block of statement\n",
        "# # }\n",
        "\n",
        "# #-------------------------------------------------------------#\n",
        "\n",
        "# # PYTHON LANGUAGE SYNTAX\n",
        "\n",
        "# # FOR LOOP :\n",
        "# # for i in range(start,end,step):\n",
        "# #     block of statement\n",
        "\n",
        "# #-------------------------------------------------------------#\n",
        "\n",
        "# # WHILE LOOP :\n",
        "# while condition:\n",
        "#     block of statement\n",
        "#     step"
      ]
    },
    {
      "cell_type": "code",
      "source": [
        "# FOR LOOP EX'S :\n",
        "\n",
        "# EX 1: FOR PYTHON\n",
        "for i in range(1,10,2):\n",
        "    print(i)\n",
        "\n",
        "#-------------------------------------------------------------#\n",
        "\n",
        "# EX 2: FOR PYTHON\n",
        "for i in range(10,0,-1):\n",
        "    print(i)"
      ],
      "metadata": {
        "colab": {
          "base_uri": "https://localhost:8080/",
          "height": 0
        },
        "id": "CGkdjJGgK2h2",
        "outputId": "37f9fb43-6209-440e-d280-2afda2a91254"
      },
      "execution_count": 20,
      "outputs": [
        {
          "output_type": "stream",
          "name": "stdout",
          "text": [
            "1\n",
            "3\n",
            "5\n",
            "7\n",
            "9\n",
            "10\n",
            "9\n",
            "8\n",
            "7\n",
            "6\n",
            "5\n",
            "4\n",
            "3\n",
            "2\n",
            "1\n"
          ]
        }
      ]
    },
    {
      "cell_type": "code",
      "source": [
        "# EX 1: WHILE LOOP\n",
        "i = 1\n",
        "while i < 11:\n",
        "    print(i)\n",
        "    i += 1\n",
        "\n",
        "#-------------------------------------------------------------#\n",
        "\n",
        "# EX 1: WHILE LOOP\n",
        "i = 10\n",
        "while i >= 1:\n",
        "    print(i)\n",
        "    i-= 1"
      ],
      "metadata": {
        "colab": {
          "base_uri": "https://localhost:8080/",
          "height": 0
        },
        "id": "73rrr4wmLRv_",
        "outputId": "fc7356d5-b043-4920-b7c7-968537a9cb72"
      },
      "execution_count": 11,
      "outputs": [
        {
          "output_type": "stream",
          "name": "stdout",
          "text": [
            "1\n",
            "2\n",
            "3\n",
            "4\n",
            "5\n",
            "6\n",
            "7\n",
            "8\n",
            "9\n",
            "10\n",
            "10\n",
            "9\n",
            "8\n",
            "7\n",
            "6\n",
            "5\n",
            "4\n",
            "3\n",
            "2\n",
            "1\n"
          ]
        }
      ]
    },
    {
      "cell_type": "code",
      "source": [
        "a=17%2\n",
        "print(a)"
      ],
      "metadata": {
        "colab": {
          "base_uri": "https://localhost:8080/"
        },
        "id": "cHbXHHDyOO05",
        "outputId": "c8c973aa-1776-49b4-90b2-f0b8aa48beb5"
      },
      "execution_count": 14,
      "outputs": [
        {
          "output_type": "stream",
          "name": "stdout",
          "text": [
            "1\n"
          ]
        }
      ]
    },
    {
      "cell_type": "code",
      "source": [
        "# REVERSE A NUMBER :\n",
        "\n",
        "num = 123\n",
        "rev = 0\n",
        "\n",
        "while num != 0:\n",
        "    temp = num % 10\n",
        "    rev = rev * 10 + temp\n",
        "    num = num // 10\n",
        "print(\"Reversed Number:\", rev)\n"
      ],
      "metadata": {
        "colab": {
          "base_uri": "https://localhost:8080/"
        },
        "id": "vkzLSTUwfOQc",
        "outputId": "db482e1d-47dd-4e98-952e-4f55fe22858c"
      },
      "execution_count": 1,
      "outputs": [
        {
          "output_type": "stream",
          "name": "stdout",
          "text": [
            "Reversed Number: 321\n"
          ]
        }
      ]
    },
    {
      "cell_type": "code",
      "source": [],
      "metadata": {
        "id": "XmGIepskjgYT"
      },
      "execution_count": null,
      "outputs": []
    }
  ]
}