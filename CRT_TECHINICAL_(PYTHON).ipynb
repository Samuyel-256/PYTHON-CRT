{
  "nbformat": 4,
  "nbformat_minor": 0,
  "metadata": {
    "colab": {
      "provenance": [],
      "authorship_tag": "ABX9TyOiFlX08ogN0MgdIt3ciSQI",
      "include_colab_link": true
    },
    "kernelspec": {
      "name": "python3",
      "display_name": "Python 3"
    },
    "language_info": {
      "name": "python"
    }
  },
  "cells": [
    {
      "cell_type": "markdown",
      "metadata": {
        "id": "view-in-github",
        "colab_type": "text"
      },
      "source": [
        "<a href=\"https://colab.research.google.com/github/Samuyel-256/PYTHON-CRT/blob/main/CRT_TECHINICAL_(PYTHON).ipynb\" target=\"_parent\"><img src=\"https://colab.research.google.com/assets/colab-badge.svg\" alt=\"Open In Colab\"/></a>"
      ]
    },
    {
      "cell_type": "code",
      "source": [
        "#-------------------------------------------------------------# 30/06/2025  #-------------------------------------------------------------#"
      ],
      "metadata": {
        "id": "lIEO-v2kjaP6"
      },
      "execution_count": null,
      "outputs": []
    },
    {
      "cell_type": "code",
      "source": [
        "# How to run python on vs Code :\n",
        "\n",
        "# first we have to save a file in the name of .py in vs code and next click on terminal and new terminal in that we type \"PYTHON FILENAME.PY\" to run code in vs code"
      ],
      "metadata": {
        "id": "uslCp0J_MZnm"
      },
      "execution_count": null,
      "outputs": []
    },
    {
      "cell_type": "markdown",
      "source": [
        "#INPUT & OUTPUT FUNCTIONS\n",
        "\n",
        "\n",
        "\n"
      ],
      "metadata": {
        "id": "o_8_tYYUhoUM"
      }
    },
    {
      "cell_type": "code",
      "source": [
        "# INPUT & OUTPUT FUNCTIONS :\n",
        "\n",
        "#-------------------------------------------------------------#\n",
        "\n",
        "# How to take Input function :\n",
        "\n",
        "# variable=input()\n",
        "\n",
        "#-------------------------------------------------------------#\n",
        "\n",
        "# How to take Output function :\n",
        "\n",
        "# To get the output we use : print() function\n",
        "\n",
        "# EX : for input and output function\n",
        "\n",
        "#-------------------------------------------------------------#\n",
        "\n",
        "a=input()\n",
        "print(a)"
      ],
      "metadata": {
        "id": "Cd6nGJCUNLLM",
        "colab": {
          "base_uri": "https://localhost:8080/"
        },
        "outputId": "95bcda8f-8965-46f5-a712-b28762145c33"
      },
      "execution_count": null,
      "outputs": [
        {
          "output_type": "stream",
          "name": "stdout",
          "text": [
            "samuyel\n",
            "samuyel\n"
          ]
        }
      ]
    },
    {
      "cell_type": "markdown",
      "source": [
        "#VARIABLES\n"
      ],
      "metadata": {
        "id": "qZKOSia9hvk_"
      }
    },
    {
      "cell_type": "code",
      "source": [
        "# VARIABLES :\n",
        "\n",
        "# # It is used to store the data.\n",
        "# It is a container to store data so that we can use for further statements\n",
        "\n",
        "# EX :\n",
        "\n",
        "lp1=50000\n",
        "lp2=60000\n",
        "sum=lp1+lp2\n",
        "print(sum)\n",
        "\n",
        "# Here lp1 and lp2 are the variables to store the data"
      ],
      "metadata": {
        "id": "H8rF1Xl3OnrR",
        "colab": {
          "base_uri": "https://localhost:8080/"
        },
        "outputId": "1a2f9861-e491-440e-bcf6-41ffc58cb668"
      },
      "execution_count": null,
      "outputs": [
        {
          "metadata": {
            "tags": null
          },
          "name": "stdout",
          "output_type": "stream",
          "text": [
            "110000\n"
          ]
        }
      ]
    },
    {
      "cell_type": "markdown",
      "source": [
        "#DATA TYPES"
      ],
      "metadata": {
        "id": "htLiWurRhzN_"
      }
    },
    {
      "cell_type": "code",
      "source": [
        "# DATA TYPES IN PYTHON :\n",
        "\n",
        "# 1. INT     : 1,-1,3 ( also called integer )\n",
        "# 2. FLOAT   : 1.24 , -3.14\n",
        "# 3. STRING  : samuyel , SAMUYEL\n",
        "# 4. BOOLEAN : true / false\n",
        "\n",
        "# EX :\n",
        "\n",
        "# INT\n",
        "age = 20\n",
        "\n",
        "# FLOAT\n",
        "height = 5.9\n",
        "\n",
        "# STRING\n",
        "name = \"Samuyel\"\n",
        "\n",
        "# BOOLEAN\n",
        "is_adult = age >= 18\n",
        "\n",
        "# OUTPUT\n",
        "print(\"Name        :\", name)\n",
        "print(\"Age         :\", age)\n",
        "print(\"Height (ft) :\", height)\n",
        "print(\"Is Adult?   :\", is_adult)\n"
      ],
      "metadata": {
        "id": "YQLp0aihOoSt",
        "colab": {
          "base_uri": "https://localhost:8080/"
        },
        "outputId": "bac8db2b-3f31-4750-9bc8-d303618c9d0a"
      },
      "execution_count": null,
      "outputs": [
        {
          "metadata": {
            "tags": null
          },
          "name": "stdout",
          "output_type": "stream",
          "text": [
            "Name        : Samuyel\n",
            "Age         : 20\n",
            "Height (ft) : 5.9\n",
            "Is Adult?   : True\n"
          ]
        }
      ]
    },
    {
      "cell_type": "markdown",
      "source": [
        "#CONDITIONS"
      ],
      "metadata": {
        "id": "wh-Ggpr7h13-"
      }
    },
    {
      "cell_type": "code",
      "source": [
        "# # # CONDITIONS IN PYTHON :\n",
        "\n",
        "#-------------------------------------------------------------#\n",
        "\n",
        "# TYPES :\n",
        "# 1. IF CONDITION\n",
        "# 2. ELSE CONDITION\n",
        "# 3. ELIF CONDITION\n",
        "# 4. NESTED IF CONDITION (IF ELIF ELSE)\n",
        "\n",
        "#-------------------------------------------------------------#\n",
        "\n",
        "# # IF CONDITION :\n",
        "# if is used to run code only when a certain condition is true.\n",
        "\n",
        "# # ELIF CONDITION :\n",
        "# elif (else if) is used when you want to check multiple conditions one after another.\n",
        "\n",
        "# # NESTED IF CONDITION\n",
        "# Nested if means placing one if, elif, or else inside another — like decision inside a decision.\n",
        "\n",
        "# # ELSE CONDITION\n",
        "# else is used to run code when all the above conditions fail. It's like the final \"otherwise\" block.\n",
        "\n",
        "#-------------------------------------------------------------#\n",
        "\n",
        "# Syntax :\n",
        "\n",
        "#  if Condition :\n",
        "#      block of statement\n",
        "#  elif condition :\n",
        "#      block of statement\n",
        "#  else :\n",
        "#      block of statement\n",
        "\n",
        "#-------------------------------------------------------------#\n",
        "\n",
        "#EX :\n",
        "age = int(input())\n",
        "if age>=18:\n",
        "  print(\"eligible for voting\")\n",
        "else:\n",
        "  print(\"not eligible for voting\")\n",
        "\n"
      ],
      "metadata": {
        "id": "6Wha7MdcOoc0",
        "colab": {
          "base_uri": "https://localhost:8080/"
        },
        "outputId": "13c47bfa-c39b-4879-bf7d-e5ebd3f9221c"
      },
      "execution_count": null,
      "outputs": [
        {
          "output_type": "stream",
          "name": "stdout",
          "text": [
            "18\n",
            "eligible for voting\n"
          ]
        }
      ]
    },
    {
      "cell_type": "code",
      "source": [
        "# TO FIND THE SECOND MAXIMUM NUMBER :\n",
        "\n",
        "a,b,c=map(int,input().split())\n",
        "\n",
        "if (a > b and a < c) or (a < b and a > c):\n",
        "    print(\"Second maximum is:\", a)\n",
        "elif (b > a and b < c) or (b < a and b > c):\n",
        "    print(\"Second maximum is:\", b)\n",
        "else:\n",
        "    print(\"Second maximum is:\",c)"
      ],
      "metadata": {
        "id": "aMGk6GALOokh",
        "colab": {
          "base_uri": "https://localhost:8080/"
        },
        "outputId": "2c7ed3ba-e7b4-42d4-aa2d-db8a79c54871"
      },
      "execution_count": null,
      "outputs": [
        {
          "output_type": "stream",
          "name": "stdout",
          "text": [
            "1 2 3\n",
            "Second maximum is: 2\n"
          ]
        }
      ]
    },
    {
      "cell_type": "code",
      "source": [
        "# TO FIND SCHOLAR SHIP USING NESTED IF :\n",
        "\n",
        "marks = int(input(\"Enter marks: \"))\n",
        "income = int(input(\"Enter income: \"))\n",
        "\n",
        "if marks > 85:\n",
        "    if income > 200000 and income < 500000:\n",
        "        print(\"You are eligible for scholarship\")\n",
        "else:\n",
        "    print(\"Not eligible\")"
      ],
      "metadata": {
        "id": "9sieLhZ3OoqV",
        "colab": {
          "base_uri": "https://localhost:8080/",
          "height": 356
        },
        "outputId": "48decaf2-3f7a-43cd-de0e-8b99913c470e"
      },
      "execution_count": null,
      "outputs": [
        {
          "output_type": "error",
          "ename": "KeyboardInterrupt",
          "evalue": "Interrupted by user",
          "traceback": [
            "\u001b[0;31m---------------------------------------------------------------------------\u001b[0m",
            "\u001b[0;31mKeyboardInterrupt\u001b[0m                         Traceback (most recent call last)",
            "\u001b[0;32m/tmp/ipython-input-9-812360592.py\u001b[0m in \u001b[0;36m<cell line: 0>\u001b[0;34m()\u001b[0m\n\u001b[1;32m      2\u001b[0m \u001b[0;34m\u001b[0m\u001b[0m\n\u001b[1;32m      3\u001b[0m \u001b[0mmarks\u001b[0m \u001b[0;34m=\u001b[0m \u001b[0mint\u001b[0m\u001b[0;34m(\u001b[0m\u001b[0minput\u001b[0m\u001b[0;34m(\u001b[0m\u001b[0;34m\"Enter marks: \"\u001b[0m\u001b[0;34m)\u001b[0m\u001b[0;34m)\u001b[0m\u001b[0;34m\u001b[0m\u001b[0;34m\u001b[0m\u001b[0m\n\u001b[0;32m----> 4\u001b[0;31m \u001b[0mincome\u001b[0m \u001b[0;34m=\u001b[0m \u001b[0mint\u001b[0m\u001b[0;34m(\u001b[0m\u001b[0minput\u001b[0m\u001b[0;34m(\u001b[0m\u001b[0;34m\"Enter income: \"\u001b[0m\u001b[0;34m)\u001b[0m\u001b[0;34m)\u001b[0m\u001b[0;34m\u001b[0m\u001b[0;34m\u001b[0m\u001b[0m\n\u001b[0m\u001b[1;32m      5\u001b[0m \u001b[0;34m\u001b[0m\u001b[0m\n\u001b[1;32m      6\u001b[0m \u001b[0;32mif\u001b[0m \u001b[0mmarks\u001b[0m \u001b[0;34m>\u001b[0m \u001b[0;36m85\u001b[0m\u001b[0;34m:\u001b[0m\u001b[0;34m\u001b[0m\u001b[0;34m\u001b[0m\u001b[0m\n",
            "\u001b[0;32m/usr/local/lib/python3.11/dist-packages/ipykernel/kernelbase.py\u001b[0m in \u001b[0;36mraw_input\u001b[0;34m(self, prompt)\u001b[0m\n\u001b[1;32m   1175\u001b[0m                 \u001b[0;34m\"raw_input was called, but this frontend does not support input requests.\"\u001b[0m\u001b[0;34m\u001b[0m\u001b[0;34m\u001b[0m\u001b[0m\n\u001b[1;32m   1176\u001b[0m             )\n\u001b[0;32m-> 1177\u001b[0;31m         return self._input_request(\n\u001b[0m\u001b[1;32m   1178\u001b[0m             \u001b[0mstr\u001b[0m\u001b[0;34m(\u001b[0m\u001b[0mprompt\u001b[0m\u001b[0;34m)\u001b[0m\u001b[0;34m,\u001b[0m\u001b[0;34m\u001b[0m\u001b[0;34m\u001b[0m\u001b[0m\n\u001b[1;32m   1179\u001b[0m             \u001b[0mself\u001b[0m\u001b[0;34m.\u001b[0m\u001b[0m_parent_ident\u001b[0m\u001b[0;34m[\u001b[0m\u001b[0;34m\"shell\"\u001b[0m\u001b[0;34m]\u001b[0m\u001b[0;34m,\u001b[0m\u001b[0;34m\u001b[0m\u001b[0;34m\u001b[0m\u001b[0m\n",
            "\u001b[0;32m/usr/local/lib/python3.11/dist-packages/ipykernel/kernelbase.py\u001b[0m in \u001b[0;36m_input_request\u001b[0;34m(self, prompt, ident, parent, password)\u001b[0m\n\u001b[1;32m   1217\u001b[0m             \u001b[0;32mexcept\u001b[0m \u001b[0mKeyboardInterrupt\u001b[0m\u001b[0;34m:\u001b[0m\u001b[0;34m\u001b[0m\u001b[0;34m\u001b[0m\u001b[0m\n\u001b[1;32m   1218\u001b[0m                 \u001b[0;31m# re-raise KeyboardInterrupt, to truncate traceback\u001b[0m\u001b[0;34m\u001b[0m\u001b[0;34m\u001b[0m\u001b[0m\n\u001b[0;32m-> 1219\u001b[0;31m                 \u001b[0;32mraise\u001b[0m \u001b[0mKeyboardInterrupt\u001b[0m\u001b[0;34m(\u001b[0m\u001b[0;34m\"Interrupted by user\"\u001b[0m\u001b[0;34m)\u001b[0m \u001b[0;32mfrom\u001b[0m \u001b[0;32mNone\u001b[0m\u001b[0;34m\u001b[0m\u001b[0;34m\u001b[0m\u001b[0m\n\u001b[0m\u001b[1;32m   1220\u001b[0m             \u001b[0;32mexcept\u001b[0m \u001b[0mException\u001b[0m\u001b[0;34m:\u001b[0m\u001b[0;34m\u001b[0m\u001b[0;34m\u001b[0m\u001b[0m\n\u001b[1;32m   1221\u001b[0m                 \u001b[0mself\u001b[0m\u001b[0;34m.\u001b[0m\u001b[0mlog\u001b[0m\u001b[0;34m.\u001b[0m\u001b[0mwarning\u001b[0m\u001b[0;34m(\u001b[0m\u001b[0;34m\"Invalid Message:\"\u001b[0m\u001b[0;34m,\u001b[0m \u001b[0mexc_info\u001b[0m\u001b[0;34m=\u001b[0m\u001b[0;32mTrue\u001b[0m\u001b[0;34m)\u001b[0m\u001b[0;34m\u001b[0m\u001b[0;34m\u001b[0m\u001b[0m\n",
            "\u001b[0;31mKeyboardInterrupt\u001b[0m: Interrupted by user"
          ]
        }
      ]
    },
    {
      "cell_type": "code",
      "source": [
        "# AGE :\n",
        "\n",
        "a = int(input(\"enter age : \"))\n",
        "if a >= 1 and  a <= 12 :\n",
        "    print(\"child\")\n",
        "elif a >= 13 and  a <= 19:\n",
        "    print(\"teen age\")\n",
        "elif a >= 20 and  a <= 35:\n",
        "    print(\"young\")\n",
        "else:\n",
        "    print(\"old\")"
      ],
      "metadata": {
        "id": "dr6rkisUOot4"
      },
      "execution_count": null,
      "outputs": []
    },
    {
      "cell_type": "markdown",
      "source": [
        "#LOOPS"
      ],
      "metadata": {
        "id": "UQ0mkRVHh55D"
      }
    },
    {
      "cell_type": "code",
      "execution_count": null,
      "metadata": {
        "id": "3076pV8UJlYT"
      },
      "outputs": [],
      "source": [
        "# # LOOPS :\n",
        "\n",
        "# #-------------------------------------------------------------#\n",
        "\n",
        "# # UNIVERSAL LANGUAGE SYNTAX FOR \"C\"\n",
        "# # for (initialisation;condition;step) {\n",
        "# #     block of statement\n",
        "# # }\n",
        "\n",
        "# #-------------------------------------------------------------#\n",
        "\n",
        "# # PYTHON LANGUAGE SYNTAX\n",
        "\n",
        "# # FOR LOOP :\n",
        "# # for i in range(start,end,step):\n",
        "# #     block of statement\n",
        "\n",
        "# #-------------------------------------------------------------#\n",
        "\n",
        "# # WHILE LOOP :\n",
        "# while condition:\n",
        "#     block of statement\n",
        "#     step"
      ]
    },
    {
      "cell_type": "code",
      "source": [
        "# FOR LOOP EX'S :\n",
        "\n",
        "# EX 1: FOR PYTHON\n",
        "for i in range(1,10,2):\n",
        "    print(i)\n",
        "\n",
        "#-------------------------------------------------------------#\n",
        "\n",
        "# EX 2: FOR PYTHON\n",
        "for i in range(10,0,-1):\n",
        "    print(i)"
      ],
      "metadata": {
        "id": "CGkdjJGgK2h2"
      },
      "execution_count": null,
      "outputs": []
    },
    {
      "cell_type": "code",
      "source": [
        "# EX 1: WHILE LOOP\n",
        "i = 1\n",
        "while i < 11:\n",
        "    print(i)\n",
        "    i += 1\n",
        "\n",
        "#-------------------------------------------------------------#\n",
        "\n",
        "# EX 1: WHILE LOOP\n",
        "i = 10\n",
        "while i >= 1:\n",
        "    print(i)\n",
        "    i-= 1"
      ],
      "metadata": {
        "id": "73rrr4wmLRv_"
      },
      "execution_count": null,
      "outputs": []
    },
    {
      "cell_type": "code",
      "source": [
        "a=17%2\n",
        "print(a)"
      ],
      "metadata": {
        "id": "cHbXHHDyOO05"
      },
      "execution_count": null,
      "outputs": []
    },
    {
      "cell_type": "code",
      "source": [
        "# REVERSE A NUMBER :\n",
        "\n",
        "num = 121\n",
        "rev = 0\n",
        "\n",
        "while num != 0:\n",
        "    temp = num % 10\n",
        "    rev = rev * 10 + temp\n",
        "    num = num // 10\n",
        "print(\"Reversed Number:\", rev)\n",
        "if temp==rev:\n",
        "    print(\"palindrome\")\n",
        "else:\n",
        "    print(\"not palindrome\")\n"
      ],
      "metadata": {
        "id": "vkzLSTUwfOQc"
      },
      "execution_count": null,
      "outputs": []
    },
    {
      "cell_type": "code",
      "source": [
        "#TO REVERSE A STRING\n",
        "\n",
        "a=input()\n",
        "print(a[::-1])"
      ],
      "metadata": {
        "id": "XmGIepskjgYT"
      },
      "execution_count": null,
      "outputs": []
    },
    {
      "cell_type": "code",
      "source": [
        "#-------------------------------------------------------------# 03/07/2025  #-------------------------------------------------------------#"
      ],
      "metadata": {
        "id": "XOt2THgmajkw"
      },
      "execution_count": null,
      "outputs": []
    },
    {
      "cell_type": "code",
      "source": [
        "# STRING LENGHT USING WHILE\n",
        "n=int(input())\n",
        "# n = abs(n) for -ve\n",
        "count=0\n",
        "while n!=0 :\n",
        "  count+=1\n",
        "  n=n//10\n",
        "print(count)"
      ],
      "metadata": {
        "id": "6JT2PO-_OEpR"
      },
      "execution_count": null,
      "outputs": []
    },
    {
      "cell_type": "markdown",
      "source": [
        "#ARMSTRONG NUMBER"
      ],
      "metadata": {
        "id": "iwpCa7C-iAB1"
      }
    },
    {
      "cell_type": "code",
      "source": [
        "#ARMSTRONG NUMBER BY AI\n",
        "\n",
        "\n",
        "n = int(input(\"Enter a number: \"))\n",
        "temp = n\n",
        "a = len(str(n))\n",
        "sum = 0\n",
        "\n",
        "while temp > 0:\n",
        "    c = temp % 10\n",
        "    sum += c ** a\n",
        "    temp //= 10\n",
        "\n",
        "if sum == n:\n",
        "    print(\" Armstrong number \")\n",
        "else:\n",
        "    print(\" NOT an Armstrong number \")\n",
        "\n",
        "\n",
        "\n",
        "\n",
        "\n",
        "\n",
        "# 🧠 Step-by-Step Baby-level Explanation:\n",
        "\n",
        "# 🔸 n = int(input(\"Enter a number: \"))\n",
        "# 👉 This line says: \"Hey user! Please give me a number\"\n",
        "# 🤖 Then it stores that number in a jar called n.\n",
        "\n",
        "# 🔸 temp = n\n",
        "# 👉 We make a copy of that number and call it temp\n",
        "# 🤔 Why? Because we’re going to break temp into pieces later, but we don’t want to touch the original number n.\n",
        "\n",
        "# 🔸 num_digits = len(str(n))\n",
        "# 🧮 This counts how many digits are in the number.\n",
        "# Example:\n",
        "\n",
        "# 153 → 3 digits\n",
        "\n",
        "# 9474 → 4 digits\n",
        "\n",
        "# We need this because Armstrong numbers use the power of digit count.\n",
        "\n",
        "# 🔸 sum = 0\n",
        "# 🥣 We prepare an empty bowl called sum\n",
        "# We’ll keep adding stuff into this bowl — specifically, each digit raised to a power!\n",
        "\n",
        "# 🔄 Now comes the while loop:\n",
        "\n",
        "# while temp > 0:\n",
        "#     c = temp % 10\n",
        "#     sum += c ** num_digits\n",
        "#     temp //= 10\n",
        "\n",
        "# Let’s break it real slow:\n",
        "\n",
        "# 🔸 c = temp % 10\n",
        "# 🧲 This pulls out the last digit of the number.\n",
        "# If temp = 153,\n",
        "# then 153 % 10 = 3 → So c = 3\n",
        "\n",
        "# 🔸 sum += c ** num_digits\n",
        "# 📈 Raise the digit c to the power of num_digits and add to sum.\n",
        "\n",
        "# Example:\n",
        "# If c = 3 and num_digits = 3 →\n",
        "# 3 ** 3 = 27 → So we add 27 into our bowl.\n",
        "\n",
        "# 🔸 temp //= 10\n",
        "# ✂️ We cut off the last digit from temp.\n",
        "# If temp = 153 → Now it becomes 15\n",
        "# We keep doing this until all digits are processed.\n",
        "\n",
        "# ❗ Final check:\n",
        "# python\n",
        "# Copy\n",
        "# Edit\n",
        "# if sum == n:\n",
        "#     print(\"Armstrong number\")\n",
        "# else:\n",
        "#     print(\"NOT an Armstrong number\")\n",
        "# 👉 We compare the final sum (from the bowl) to the original number.\n",
        "# If both are same — yayyy 🥳 it’s an Armstrong number!\n",
        "# Otherwise, nope 😢\n",
        "\n",
        "# ✅ Example:\n",
        "# Input: 153\n",
        "\n",
        "# So it's an Armstrong number!\n"
      ],
      "metadata": {
        "id": "BghbzA2CRqgK"
      },
      "execution_count": null,
      "outputs": []
    },
    {
      "cell_type": "code",
      "source": [
        "# ARMSTRONG NUMBER BY SIR\n",
        "\n",
        "n = int(input(\"Enter a number: \"))\n",
        "a = n\n",
        "a2 = n\n",
        "if n<0 :\n",
        "  n=-n\n",
        "count=0\n",
        "while n!=0:\n",
        "  temp = n% 10\n",
        "  count+=1\n",
        "  n=n//10\n",
        "sum=0\n",
        "while a!=0:\n",
        "  temp=a%10\n",
        "  sum=sum+(temp**count)\n",
        "  a=a//10\n",
        "if sum==a2:\n",
        "  print(\"Armstrong number\")\n",
        "else:\n",
        "    print(\"NOT an Armstrong number\")"
      ],
      "metadata": {
        "id": "a19tfOnDVMZv"
      },
      "execution_count": null,
      "outputs": []
    },
    {
      "cell_type": "code",
      "source": [
        "# SUM OF NUMBERS\n",
        "\n",
        "n = int(input(\"Enter a number: \"))\n",
        "a = n\n",
        "a2 = n\n",
        "if n<0 :\n",
        "  n=-n\n",
        "count=0\n",
        "while n!=0:\n",
        "  temp = n% 10\n",
        "  count+=1\n",
        "  n=n//10\n",
        "sum=0\n",
        "while a!=0:\n",
        "  temp=a%10\n",
        "  sum=sum+(temp)\n",
        "  a=a//10\n",
        "print(sum)"
      ],
      "metadata": {
        "id": "wbAB0pxga3CI"
      },
      "execution_count": null,
      "outputs": []
    },
    {
      "cell_type": "markdown",
      "source": [
        "#STATEMENTS"
      ],
      "metadata": {
        "id": "B3fyK50wiEAK"
      }
    },
    {
      "cell_type": "code",
      "source": [
        "# BREAK AND CONTINUE STATEMENTS\n",
        "\n",
        "#-------------------------------------------------------------#\n",
        "\n",
        "# CONTINUE :\n",
        "#  continue skips the rest of the current loop and jumps to the next iteration\n",
        "\n",
        "# EX :\n",
        "print(\"for continue\")\n",
        "for i in range (1,11):\n",
        "  if i==4:\n",
        "    continue\n",
        "  print(i)\n",
        "\n",
        "\n",
        "#-------------------------------------------------------------#\n",
        "print(\"\\n\")\n",
        "\n",
        "\n",
        "# BREAK :\n",
        "#break immediately stops the entire loop and jumps out of it.\n",
        "\n",
        "#EX :\n",
        "print(\"for break\")\n",
        "for i in range (1,11):\n",
        "  if i==4:\n",
        "    break\n",
        "  print(i)"
      ],
      "metadata": {
        "id": "bcMB-Zqhbf6o"
      },
      "execution_count": null,
      "outputs": []
    },
    {
      "cell_type": "code",
      "source": [
        "#-------------------------------------------------------------# 04/07/2025  #-------------------------------------------------------------#"
      ],
      "metadata": {
        "id": "Eyl2G59cdNTH"
      },
      "execution_count": null,
      "outputs": []
    },
    {
      "cell_type": "markdown",
      "source": [
        "#PATTERNS"
      ],
      "metadata": {
        "id": "NuFGZCe6iHTk"
      }
    },
    {
      "cell_type": "code",
      "source": [
        "# PATTERNS :\n",
        "\n",
        "\n",
        "# IN BEFORE NESTED LOOP WE USED THIS TYPE TO PRINT PATTERNS\n",
        "# 🟨 Before Using Nested Loops Basic Pattern Printing\n",
        "# When we didn’t know about nested loops, we used to repeat the same for loop again and again manually to print patterns like a square of stars\n",
        "for i in range (1,5):\n",
        "  print(\"*\",end=' ')\n",
        "print()\n",
        "for i in range (1,5):\n",
        "  print(\"*\",end=' ')\n",
        "print()\n",
        "for i in range (1,5):\n",
        "  print(\"*\",end=' ')\n",
        "print()\n",
        "for i in range (1,5):\n",
        "  print(\"*\",end=' ')\n",
        "print()\n"
      ],
      "metadata": {
        "id": "PhOA4WO0dP6G"
      },
      "execution_count": null,
      "outputs": []
    },
    {
      "cell_type": "code",
      "source": [
        "# AFTER USING NESTED LOOPING\n",
        "l=10\n",
        "b=20\n",
        "for i in range (1,l+1):\n",
        "  for j in range (1,b+1):\n",
        "    print(\"*\",end='')\n",
        "  print()"
      ],
      "metadata": {
        "id": "zoAP8P0adNEh"
      },
      "execution_count": null,
      "outputs": []
    },
    {
      "cell_type": "code",
      "source": [
        "# alphabet = {\n",
        "#     'A': [\"  *  \", \" * * \", \"*****\", \"*   *\", \"*   *\"],\n",
        "#     'B': [\"**** \", \"*   *\", \"**** \", \"*   *\", \"**** \"],\n",
        "#     'C': [\" ****\", \"*    \", \"*    \", \"*    \", \" ****\"],\n",
        "#     'D': [\"**** \", \"*   *\", \"*   *\", \"*   *\", \"**** \"],\n",
        "#     'E': [\"*****\", \"*    \", \"**** \", \"*    \", \"*****\"],\n",
        "#     'F': [\"*****\", \"*    \", \"**** \", \"*    \", \"*    \"],\n",
        "#     'G': [\" ****\", \"*    \", \"* ***\", \"*   *\", \" ****\"],\n",
        "#     'H': [\"*   *\", \"*   *\", \"*****\", \"*   *\", \"*   *\"],\n",
        "#     'I': [\"*****\", \"  *  \", \"  *  \", \"  *  \", \"*****\"],\n",
        "#     'J': [\"  ***\", \"   * \", \"   * \", \"*  * \", \" **  \"],\n",
        "#     'K': [\"*   *\", \"*  * \", \"***  \", \"*  * \", \"*   *\"],\n",
        "#     'L': [\"*    \", \"*    \", \"*    \", \"*    \", \"*****\"],\n",
        "#     'M': [\"*   *\", \"** **\", \"* * *\", \"*   *\", \"*   *\"],\n",
        "#     'N': [\"*   *\", \"**  *\", \"* * *\", \"*  **\", \"*   *\"],\n",
        "#     'O': [\" *** \", \"*   *\", \"*   *\", \"*   *\", \" *** \"],\n",
        "#     'P': [\"**** \", \"*   *\", \"**** \", \"*    \", \"*    \"],\n",
        "#     'Q': [\" *** \", \"*   *\", \"*   *\", \"*  **\", \" ****\"],\n",
        "#     'R': [\"**** \", \"*   *\", \"**** \", \"*  * \", \"*   *\"],\n",
        "#     'S': [\" ****\", \"*    \", \" *** \", \"    *\", \"**** \"],\n",
        "#     'T': [\"*****\", \"  *  \", \"  *  \", \"  *  \", \"  *  \"],\n",
        "#     'U': [\"*   *\", \"*   *\", \"*   *\", \"*   *\", \" *** \"],\n",
        "#     'V': [\"*   *\", \"*   *\", \"*   *\", \" * * \", \"  *  \"],\n",
        "#     'W': [\"*   *\", \"*   *\", \"* * *\", \"** **\", \"*   *\"],\n",
        "#     'X': [\"*   *\", \" * * \", \"  *  \", \" * * \", \"*   *\"],\n",
        "#     'Y': [\"*   *\", \" * * \", \"  *  \", \"  *  \", \"  *  \"],\n",
        "#     'Z': [\"*****\", \"   * \", \"  *  \", \" *   \", \"*****\"],\n",
        "# }\n",
        "\n",
        "# # 🔠 Get user input\n",
        "# name = input(\"Enter your name (in CAPITAL letters): \").upper()\n",
        "\n",
        "# # 🖨️ Print the star pattern line-by-line\n",
        "# for row in range(5):\n",
        "#     for char in name:\n",
        "#         if char in alphabet:\n",
        "#             print(alphabet[char][row], end=\"  \")\n",
        "#         else:\n",
        "#             print(\"     \", end=\"  \")  # space for unsupported chars\n",
        "#     print()\n"
      ],
      "metadata": {
        "id": "GYrwe81bdNCT"
      },
      "execution_count": null,
      "outputs": []
    },
    {
      "cell_type": "code",
      "source": [
        "n=1\n",
        "for i in range (1,n+1):\n",
        "  print(\"*\")"
      ],
      "metadata": {
        "id": "WpBQuZPfdNAf"
      },
      "execution_count": null,
      "outputs": []
    },
    {
      "cell_type": "code",
      "source": [
        "# USING NESTED\n",
        "n=int(input())\n",
        "for i in range (1,n+1):\n",
        "  for j in range (1,i+1):\n",
        "    print(\"*\",end='')()\n",
        "  print()"
      ],
      "metadata": {
        "id": "9lZqyUIadM-B"
      },
      "execution_count": null,
      "outputs": []
    },
    {
      "cell_type": "code",
      "source": [
        "# prompt: generate an an code that take user input and print triangle by loop  with single input in that the middle has to gap\n",
        "\n",
        "n = int(input())\n",
        "\n",
        "for i in range(1, n + 1):\n",
        "    if i == 1:\n",
        "        print(\" \" * (n - i) + \"*\")\n",
        "    elif i == n:\n",
        "        print(\"*\" * (2 * i - 1))\n",
        "    else:\n",
        "\n",
        "        print(\" \" * (n - i) + \"*\" + \" \" * ((2 * i - 1) - 2) + \"*\")\n",
        "\n"
      ],
      "metadata": {
        "id": "pa89jQ_xdM7a"
      },
      "execution_count": null,
      "outputs": []
    },
    {
      "cell_type": "code",
      "source": [
        "n = int(input())\n",
        "\n",
        "if n > 0:\n",
        "    for i in range(1, n + 1):\n",
        "        print(\" \" * (n - i), end=\"\")  # add spaces before letters\n",
        "        for j in range(i):\n",
        "            print(chr(65 + j), end=\"\")\n",
        "        print()  # new line after each row\n",
        "else:\n",
        "    print(\"No output generated\")\n"
      ],
      "metadata": {
        "id": "KFPT7S3ddMrL"
      },
      "execution_count": null,
      "outputs": []
    },
    {
      "cell_type": "code",
      "source": [
        "n = int(input(\"Enter number of rows: \"))\n",
        "\n",
        "# Upper half\n",
        "for i in range(1, n + 1):\n",
        "    print(\"*\" * i + \" \" * (2 * (n - i)) + \"*\" * i)\n",
        "\n",
        "# Lower half\n",
        "for i in range(n - 1, 0, -1):\n",
        "    print(\"*\" * i + \" \" * (2 * (n - i)) + \"*\" * i)\n"
      ],
      "metadata": {
        "id": "mykYk6FidMmr"
      },
      "execution_count": null,
      "outputs": []
    },
    {
      "cell_type": "code",
      "source": [
        "# ASCII VALUES\n",
        "for i in range(1,256):\n",
        "  print(i,\"-> \",chr(i))"
      ],
      "metadata": {
        "id": "EhE0aD0xdMkR"
      },
      "execution_count": null,
      "outputs": []
    },
    {
      "cell_type": "code",
      "source": [
        "# ABCD PATTERN\n",
        "n=5\n",
        "for i in range(1,n+1):\n",
        "  k='A'\n",
        "  for j in range(1,i+1):\n",
        "    print(k,end=\"\")\n",
        "    k=(ord(k)+1)\n",
        "    k=chr(k)\n",
        "  print()"
      ],
      "metadata": {
        "id": "-GNZm1632eIy"
      },
      "execution_count": null,
      "outputs": []
    },
    {
      "cell_type": "code",
      "source": [
        "height = int(input(\"Enter the height of the triangle: \"))\n",
        "for i in range(1, height + 1):\n",
        "    print(\" \" * (height - i), end=\"\")\n",
        "    for j in range(1, 2 * i): # Added inner loop for columns\n",
        "        if i == height or j == 1 or j == 2 * i - 1:\n",
        "            print(\"*\", end=\"\")\n",
        "        else:\n",
        "            print(\" \", end=\"\")\n",
        "    print()"
      ],
      "metadata": {
        "id": "b9vun0sH6bGF"
      },
      "execution_count": null,
      "outputs": []
    },
    {
      "cell_type": "code",
      "source": [
        "#-------------------------------------------------------------# 09/07/2025  #-------------------------------------------------------------#"
      ],
      "metadata": {
        "id": "7gicyxv5HlZv"
      },
      "execution_count": null,
      "outputs": []
    },
    {
      "cell_type": "code",
      "source": [
        "# FUNCTIONS\n",
        "\n",
        "#BEFORE FUNCTIONS\n",
        "for i in range (1,11) :\n",
        "  print(i)\n",
        "for i in range (11,21) :\n",
        "  print(i)\n",
        "for i in range (21,51) :\n",
        "  print(i)\n",
        "for i in range (1,11) :\n",
        "  print(i)\n",
        "for i in range (1,11) :\n",
        "  print(i)\n",
        "for i in range (1,11) :\n",
        "  print(i)"
      ],
      "metadata": {
        "id": "ErP36dBjHpzm"
      },
      "execution_count": null,
      "outputs": []
    },
    {
      "cell_type": "code",
      "source": [
        "for i in range (1,11) :\n",
        "  print(i)\n",
        "  print()"
      ],
      "metadata": {
        "id": "_DEl136nLQLb"
      },
      "execution_count": null,
      "outputs": []
    },
    {
      "cell_type": "markdown",
      "source": [
        "#FUNCTIONS"
      ],
      "metadata": {
        "id": "vyCprTggiNHQ"
      }
    },
    {
      "cell_type": "code",
      "source": [
        "#FUNCTIONS\n",
        "\n",
        "# SYNTAX\n",
        "# WORKING PROCESS\n",
        "# REAL TIME EXAMPLE\n",
        "\n",
        "\n",
        "# SYNTAX\n",
        "# def functionName ():\n",
        "#   block of code\n",
        "\n",
        "# functioncalling()\n",
        "\n",
        "# def key word is uesd to define a function\n",
        "# '()' these are parenticies\n",
        "# block of code used to define a code\n",
        "# functioncalling is used to call the function\n",
        "\n",
        "# BEFORE FUNCTIONS WE USE FOR LOOP FOR PRINTING NUMBERS OR SOMETHING ETC\n",
        "\n",
        "# AFTER FUNCTIONS WE USE FUNCTIONS FOR PRINTING NUMBERS OR SOMETHING IN EASY WAY\n",
        "\n",
        "# EX :1\n",
        "\n",
        "def function ():\n",
        "  for i in range (1,11) :\n",
        "    print(i)\n",
        "  print()\n",
        "function()\n",
        "function()\n",
        "\n",
        "# EX :2\n",
        "def spoc ():\n",
        "  print(\"INSTRUCTED ABOUT ATTENDANCE AND FINE\")\n",
        "spoc()\n"
      ],
      "metadata": {
        "id": "6qYnkQYoLYZ7"
      },
      "execution_count": null,
      "outputs": []
    },
    {
      "cell_type": "code",
      "source": [
        "#EX :3\n",
        "\n",
        "def fun1to10():\n",
        "  for i in range (1,11) :\n",
        "    print(i,end=' ')\n",
        "  print()\n",
        "def fun11to20():\n",
        "  for i in range (11,21) :\n",
        "    print(i,end=' ')\n",
        "  print()\n",
        "def fun21to50():\n",
        "  for i in range (21,51) :\n",
        "    print(i,end=' ')\n",
        "fun1to10()\n",
        "fun11to20()\n",
        "fun21to50()"
      ],
      "metadata": {
        "id": "ZKhdfCIsP2WH"
      },
      "execution_count": null,
      "outputs": []
    },
    {
      "cell_type": "code",
      "source": [
        "#EX :4\n",
        "\n",
        "def fun1to10(st,end):\n",
        "  for i in range (st,end+1):\n",
        "    print(i,end=' ')\n",
        "  print()\n",
        "fun1to10(1,10)\n",
        "fun1to10(12,35)"
      ],
      "metadata": {
        "id": "7f6bxLstS404"
      },
      "execution_count": null,
      "outputs": []
    },
    {
      "cell_type": "code",
      "source": [
        "# # TYPES OF USER DEFINED FUNCTIONS :\n",
        "# 1.WITHOUT RETURN TYPE WITHOUT PARAMETERS\n",
        "# 2.WITHOUT RETURN TYPE WITH PARAMETERS\n",
        "# 3.WITH RETURN TYPE WITHOUT PARAMETERS\n",
        "# 4.WITH RETURN TYPE WITH PARAMETERS"
      ],
      "metadata": {
        "id": "-DogdVcvUQrs"
      },
      "execution_count": null,
      "outputs": []
    },
    {
      "cell_type": "code",
      "source": [
        "# 1.WITHOUT RETURN TYPE WITHOUT PARAMETERS\n",
        "def function ():\n",
        "  for i in range (1,11) :\n",
        "    print(i)\n",
        "  print()\n",
        "function()"
      ],
      "metadata": {
        "id": "pMe_UEQtU2RF"
      },
      "execution_count": null,
      "outputs": []
    },
    {
      "cell_type": "code",
      "source": [
        "#HEAVY CODE WITHOUT USING PARAMETERS\n",
        "\n",
        "def sumof1to10():\n",
        "  sum=0\n",
        "  for i in range (1,11):\n",
        "    sum=sum+i\n",
        "  print(sum)\n",
        "  print()\n",
        "def sumof1to20():\n",
        "  sum=0\n",
        "  for i in  range(1,21):\n",
        "    sum=sum+i\n",
        "  print(sum)\n",
        "sumof1to10()\n",
        "sumof1to20()"
      ],
      "metadata": {
        "id": "PfgFCsZXdkPb"
      },
      "execution_count": null,
      "outputs": []
    },
    {
      "cell_type": "code",
      "source": [
        "# 2.WITHOUT RETURN TYPE WITH PARAMETERS\n",
        "def fun1to10(st,end):\n",
        "  for i in range (st,end+1):\n",
        "    print(i,end=' ')\n",
        "  print()\n",
        "fun1to10(1,10)"
      ],
      "metadata": {
        "id": "Toc0z1zyVksb"
      },
      "execution_count": null,
      "outputs": []
    },
    {
      "cell_type": "code",
      "source": [
        "#OPTIMIZED CODE BY USING PARAMETERS\n",
        "def sum(end):\n",
        "  sum=0\n",
        "  for i in range (1,end+1):\n",
        "    sum=sum+i\n",
        "  print(sum)\n",
        "  print()\n",
        "sum(10)\n",
        "sum(20)\n"
      ],
      "metadata": {
        "id": "3rIr3zdrdnkd"
      },
      "execution_count": null,
      "outputs": []
    },
    {
      "cell_type": "code",
      "source": [
        "# BRUTEFORCE : THE INSTANT WORK DONE (WORST CASE)\n",
        "# OPTIMIZED : AN ORDER TO DONE THE WORK (BEST CASE)"
      ],
      "metadata": {
        "id": "p2Nfedl_XivV"
      },
      "execution_count": null,
      "outputs": []
    },
    {
      "cell_type": "code",
      "source": [
        "# 3. with  return type  without  parameter\n",
        "def sum():\n",
        "  sum=0\n",
        "  for  i in range(1,21):\n",
        "    sum=sum+i\n",
        "  return sum\n",
        "var1=sum()\n",
        "var2=sum()\n",
        "print(var1)\n",
        "print(var2)\n",
        "sum=var1+var2\n",
        "print(sum)"
      ],
      "metadata": {
        "id": "wSIkM7AAcu_3"
      },
      "execution_count": null,
      "outputs": []
    },
    {
      "cell_type": "code",
      "source": [
        "# 4.WITH RETURN TYPE WITH PARAMETERS\n",
        "def sum(end):\n",
        "  sum=0\n",
        "  for i in range(end+1):\n",
        "    sum=sum+i\n",
        "  return sum\n",
        "var1=sum(20)\n",
        "var2=sum(40)\n",
        "print(var1)\n",
        "print(var2)\n",
        "sum=var1+var2\n",
        "print(sum)\n"
      ],
      "metadata": {
        "id": "5kVIrSKldozv"
      },
      "execution_count": null,
      "outputs": []
    },
    {
      "cell_type": "code",
      "source": [
        "#GREATEST NUMBER USING FUNCTIONS\n",
        "def greatestnumber(a,b,c):\n",
        "  if a>b and a>c :\n",
        "    print(\"a is greatest\")\n",
        "  elif b>a and b>c :\n",
        "    print(\"b is greatest\")\n",
        "  else :\n",
        "    print(\"c is greatest\")\n",
        "a,b,c=map(int,input().split()) # Corrected line: added () to call split()\n",
        "greatestnumber(a,b,c)"
      ],
      "metadata": {
        "id": "2dvznfQXeId8"
      },
      "execution_count": null,
      "outputs": []
    },
    {
      "cell_type": "code",
      "source": [
        "\n",
        "# MAKING OF BUTTERFLY PATTERN\n",
        "n=int(input())\n",
        "for i in range(1,n+1):\n",
        "  for j in range (i):\n",
        "    print(\"*\",end='')\n",
        "  print()\n",
        "for i in range(n,0,-1):\n",
        "  for j in range (i):\n",
        "    print(\"*\",end='')\n",
        "  print()"
      ],
      "metadata": {
        "id": "iGEeZ5VAgfjB"
      },
      "execution_count": null,
      "outputs": []
    },
    {
      "cell_type": "code",
      "source": [
        "# BUTTER FLY\n",
        "n=int(input())\n",
        "for i in range (1,n+1):\n",
        "    for j in range(1,i+1):#1\n",
        "        print(\"*\",end=\"\")\n",
        "    for j in range(1,n-i+1):#2 (spaces)\n",
        "        print(\" \",end=\"\")\n",
        "    for j in range(1,n-i+1):#2 (spaces)\n",
        "        print(\" \",end=\"\")\n",
        "    for j in range(1,i+1):#1\n",
        "        print(\"*\",end=\"\")\n",
        "    print()\n",
        "for i in range (n,0,-1):\n",
        "    for j in range(1,i+1):#2 (spaces)\n",
        "        print(\"*\",end=\"\")\n",
        "    for j in range(1,n-i+1):#2 (spaces)\n",
        "        print(\" \",end=\"\")\n",
        "    for j in range(1,n-i+1):#1\n",
        "        print(\" \",end=\"\")\n",
        "    for j in range(1,i+1):#1\n",
        "        print(\"*\",end=\"\")\n",
        "    print()\n",
        "\n",
        "\n"
      ],
      "metadata": {
        "id": "6M-EOL7FlDNa"
      },
      "execution_count": null,
      "outputs": []
    },
    {
      "cell_type": "code",
      "source": [
        "#-------------------------------------------------------------# 10/07/2025  #-------------------------------------------------------------#"
      ],
      "metadata": {
        "id": "FI5UHUw3SMJt"
      },
      "execution_count": null,
      "outputs": []
    },
    {
      "cell_type": "code",
      "source": [
        "# BRUTE FORCE APPROACH (LV:1)\n",
        "\n",
        "def f1():\n",
        "  print(\"1\")\n",
        "def f2():\n",
        "  print(\"2\")\n",
        "def f3():\n",
        "  print(\"3\")\n",
        "def f4():\n",
        "  print(\"4\")\n",
        "def f5():\n",
        "  print(\"5\")\n",
        "\n",
        "f1()\n",
        "f2()\n",
        "f3()\n",
        "f4()\n",
        "f5()"
      ],
      "metadata": {
        "id": "NWqcJdiVSZCe"
      },
      "execution_count": null,
      "outputs": []
    },
    {
      "cell_type": "code",
      "source": [
        "# BRUTE FORCE APPROACH (LV:2)\n",
        "\n",
        "def f1():\n",
        "  print(\"1\")\n",
        "  f2()\n",
        "def f2():\n",
        "  print(\"2\")\n",
        "  f3()\n",
        "def f3():\n",
        "  print(\"3\")\n",
        "  f4()\n",
        "def f4():\n",
        "  print(\"4\")\n",
        "  f5()\n",
        "def f5():\n",
        "  print(\"5\")\n",
        "f1()"
      ],
      "metadata": {
        "id": "z0UMxOOFUcvJ"
      },
      "execution_count": null,
      "outputs": []
    },
    {
      "cell_type": "code",
      "source": [
        "# BRUTE FORCE APPROACH (LV:3)\n",
        "\n",
        "def f1(v):\n",
        "  print(v)\n",
        "  f2(v+1)\n",
        "def f2(v):\n",
        "  print(v)\n",
        "  f3(v+1)\n",
        "def f3(v):\n",
        "  print(v)\n",
        "  f4(v+1)\n",
        "def f4(v):\n",
        "  print(v)\n",
        "  f5(v+1)\n",
        "def f5(v):\n",
        "  print(v)\n",
        "f1(1)"
      ],
      "metadata": {
        "id": "Imu7E35sWiX6"
      },
      "execution_count": null,
      "outputs": []
    },
    {
      "cell_type": "code",
      "source": [
        "def f(v):\n",
        "  print(v)\n",
        "  if v < 500:\n",
        "    f(v+1)\n",
        "\n",
        "f(1)"
      ],
      "metadata": {
        "id": "m4HEE9BUYxXl"
      },
      "execution_count": null,
      "outputs": []
    },
    {
      "cell_type": "code",
      "source": [
        "# POWER OF RETURN\n",
        "\n",
        "# RETURN IS USED FOR RETURN THE CODE FROM THE RETURN PLACED\n",
        "\n",
        "# EX :1\n",
        "\n",
        "def f():\n",
        "  print(\"hello\")\n",
        "  print(\"world\")\n",
        "  return\n",
        "  print(\"this is not printed\")\n",
        "f()"
      ],
      "metadata": {
        "id": "xoL6GWSsaZ8O"
      },
      "execution_count": null,
      "outputs": []
    },
    {
      "cell_type": "code",
      "metadata": {
        "id": "7a70cb30"
      },
      "source": [
        "# EX :2\n",
        "\n",
        "def f(v):\n",
        "  if v==6:\n",
        "    return\n",
        "  print(v)\n",
        "  f(v+1)\n",
        "f(1)"
      ],
      "execution_count": null,
      "outputs": []
    },
    {
      "cell_type": "code",
      "source": [
        "# EX :3\n",
        "\n",
        "def f(v):\n",
        "    if v == 6:\n",
        "        return\n",
        "    f(v + 1)\n",
        "    print(v)\n",
        "\n",
        "f(1)\n"
      ],
      "metadata": {
        "id": "qHZ0Y03ggq3v"
      },
      "execution_count": null,
      "outputs": []
    },
    {
      "cell_type": "code",
      "source": [
        "#SUM OF 5 NUMBERS USING RECURRSION\n",
        "def f(v,sum):\n",
        "  if v==6:\n",
        "    print(sum)\n",
        "    return\n",
        "  sum=sum+v\n",
        "  f(v+1,sum)\n",
        "f(1,0)\n"
      ],
      "metadata": {
        "id": "1jEFqZ17lYW3"
      },
      "execution_count": null,
      "outputs": []
    },
    {
      "cell_type": "code",
      "source": [
        "#-------------------------------------------------------------# 11/07/2025  #-------------------------------------------------------------#"
      ],
      "metadata": {
        "id": "Uv3YGrLzgVOA"
      },
      "execution_count": null,
      "outputs": []
    },
    {
      "cell_type": "code",
      "source": [
        "#11/7/2025 TEST PROBLEMS\n",
        "\n",
        "# 6 (SUM OF DIGITS RECURSIVE)\n",
        "# num = int(input(\"Enter a number: \"))\n",
        "# def sumofdigits(n):\n",
        "#     if n == 0:\n",
        "#         return 0\n",
        "#     return n % 10 + sumofdigits(n // 10)\n",
        "# print(sumofdigits(num))\n",
        "\n",
        "#________________________________________________________________________________\n",
        "\n",
        "# 5\n",
        "# n,m=map(int,input().split())\n",
        "# def sumofdigits(n,m):\n",
        "#     return n**m\n",
        "# print(sumofdigits(n,m))\n",
        "\n",
        "#________________________________________________________________________________\n",
        "\n",
        "# 4\n",
        "# n=int(input())\n",
        "# print(str(n)[::-1])\n",
        "\n",
        "#________________________________________________________________________________\n",
        "\n",
        "# 3\n",
        "# n = int(input())\n",
        "# for i in range(1, n + 1):\n",
        "#     print(\" \" * (i - 1), end=\"\")\n",
        "#     for j in range(1, n - i + 2):\n",
        "#         print(j, end=\"\")\n",
        "#     for k in range(n - i, 0, -1):\n",
        "#         print(k, end=\"\")\n",
        "#     print()\n",
        "\n",
        "#________________________________________________________________________________\n",
        "\n",
        "#2\n",
        "#name = input(\"Enter a string: \")\n",
        "# seen = set()\n",
        "\n",
        "# for c in name:\n",
        "#     if c in seen:\n",
        "#         print(c)\n",
        "#         break\n",
        "#     seen.add(c)\n",
        "# else:\n",
        "#     print(\"-1\")\n",
        "\n",
        "#________________________________________________________________________________\n",
        "\n",
        "# 1\n",
        "# m=int(input())\n",
        "# def fibonacci (n):\n",
        "#   a,b=0,1\n",
        "#   for i in range (n):\n",
        "#     print(a,end=' ')\n",
        "#     a, b=b, b+a\n",
        "# fibonacci(m)"
      ],
      "metadata": {
        "id": "Saoez3UFl2ZB"
      },
      "execution_count": null,
      "outputs": []
    },
    {
      "cell_type": "code",
      "metadata": {
        "id": "4453e175"
      },
      "source": [
        "n = int(input(\"Enter the number of rows: \"))\n",
        "\n",
        "for i in range(1, n + 1):\n",
        "    # Print leading spaces\n",
        "    print(\" \" * (i - 1), end=\"\")\n",
        "    # Print increasing sequence\n",
        "    for j in range(1, n - i + 2):\n",
        "        print(j, end=\"\")\n",
        "    # Print decreasing sequence\n",
        "    for k in range(n - i, 0, -1):\n",
        "        print(k, end=\"\")\n",
        "    print()"
      ],
      "execution_count": null,
      "outputs": []
    },
    {
      "cell_type": "markdown",
      "source": [
        "#LAMBDA FUNCTION\n"
      ],
      "metadata": {
        "id": "xHFnPn7IiTCn"
      }
    },
    {
      "cell_type": "code",
      "source": [
        "#LAMDA FUNCTION SYNTAX :\n",
        "\n",
        "# FUNCTION NAME = LAMDA PARAMETERS : RETURN EXPRESSIONS/TASKS\n",
        "\n",
        "# def add(a,b):\n",
        "#   return a+b\n",
        "# print(add(1,2))\n",
        "\n",
        "#LAMDA FUNCTION CODE\n",
        "add= lambda a,b:a*b\n",
        "print(add(1,4))"
      ],
      "metadata": {
        "id": "OSRmmxsJatc3",
        "colab": {
          "base_uri": "https://localhost:8080/"
        },
        "outputId": "c0469046-e738-4fd2-c362-cd96641cdf95"
      },
      "execution_count": 9,
      "outputs": [
        {
          "output_type": "stream",
          "name": "stdout",
          "text": [
            "4\n"
          ]
        }
      ]
    },
    {
      "cell_type": "code",
      "source": [
        "n=map(int,input().split())\n",
        "add=lambda add:add+add\n",
        "add=map(add,n)\n",
        "print(list(add))"
      ],
      "metadata": {
        "id": "Py2nPVwC9EkR",
        "colab": {
          "base_uri": "https://localhost:8080/"
        },
        "outputId": "211c97d5-f39e-47c1-feb0-8c88ea9b3582"
      },
      "execution_count": 10,
      "outputs": [
        {
          "output_type": "stream",
          "name": "stdout",
          "text": [
            "4 5\n",
            "[8, 10]\n"
          ]
        }
      ]
    },
    {
      "cell_type": "markdown",
      "source": [
        "#SCOPE"
      ],
      "metadata": {
        "id": "XcBD0Kb3jKQv"
      }
    },
    {
      "cell_type": "code",
      "source": [
        "# SCOPE IS AN RANGE\n",
        "\n",
        "#EX :1\n",
        "x=20\n",
        "def samuyel():\n",
        "  x=10\n",
        "  print(x)\n",
        "samuyel()\n",
        "print(x)\n",
        "print()\n",
        "\n",
        "#EX :2\n",
        "x=20\n",
        "def samuyel():\n",
        "  global x\n",
        "  x=10\n",
        "  print(x)\n",
        "samuyel()\n",
        "print(x)\n",
        "print()\n",
        "\n",
        "#EX :2\n",
        "def samuyel():\n",
        "  global x\n",
        "  x=20\n",
        "  print(x)\n",
        "samuyel()\n",
        "print(x)"
      ],
      "metadata": {
        "id": "WFFQimgOjd--"
      },
      "execution_count": null,
      "outputs": []
    },
    {
      "cell_type": "code",
      "source": [
        "#REPEATING CHARACTER\n",
        "rc=False\n",
        "arr=[0]*26\n",
        "str=input()\n",
        "for ch in str:\n",
        "  idx=ord(ch)-ord('a')\n",
        "  arr[idx]=arr[idx]+1\n",
        "  if arr[idx]>1:\n",
        "      print(ch)\n",
        "      rc=True\n",
        "      break\n",
        "if rc==False:\n",
        "    print(\"ne name la repeating character leduuu\")"
      ],
      "metadata": {
        "id": "F7cJFHBs1JBl"
      },
      "execution_count": null,
      "outputs": []
    },
    {
      "cell_type": "code",
      "source": [
        "def fib(n):\n",
        "  if n==1:\n",
        "    return 1\n",
        "  elif n==0:\n",
        "    return 0\n",
        "  return fib(n-1)+fib(n-2)\n",
        "\n",
        "n=int(input())\n",
        "print(fib(n))"
      ],
      "metadata": {
        "id": "5ya1y9I_8my9"
      },
      "execution_count": null,
      "outputs": []
    },
    {
      "cell_type": "code",
      "source": [
        "#-------------------------------------------------------------# 12/07/2025  #-------------------------------------------------------------#"
      ],
      "metadata": {
        "id": "V3tRPUqy_yep"
      },
      "execution_count": null,
      "outputs": []
    },
    {
      "cell_type": "code",
      "source": [
        "#12/7/2025 TEST PROBLEMS\n",
        "\n",
        "# 1\n",
        "# n = int(input(\"Enter a number: \"))\n",
        "# a= True\n",
        "# for i in range(2, n):\n",
        "#     if n % i == 0:\n",
        "#         a = False\n",
        "#         break\n",
        "# if a:\n",
        "#     print(\"True\")\n",
        "# else:\n",
        "#     print(\"False\")\n",
        "\n",
        "#________________________________________________________________________________\n",
        "\n",
        "# 4\n",
        "# n=int(input())\n",
        "# a=3**3\n",
        "# if a=n:\n",
        "#     print(\"True\")\n",
        "# else:\n",
        "#     print(\"False\")\n",
        "\n",
        "#________________________________________________________________________________\n",
        "\n",
        "# 8\n",
        "# a = int(input())\n",
        "# b = int(input())\n",
        "# a = a ^ b\n",
        "# b = a ^ b\n",
        "# a = a ^ b\n",
        "# print(a,b)\n",
        "\n",
        "#________________________________________________________________________________\n",
        "\n",
        "# 6\n",
        "# a= int(input())\n",
        "# b= int(input())\n",
        "# def gcd(a, b):\n",
        "#     if b == 0:\n",
        "#         return a\n",
        "#     else:\n",
        "#         return gcd(b, a % b)\n",
        "# print(gcd(a, b))\n",
        "\n",
        "#________________________________________________________________________________\n",
        "\n",
        "#  5\n",
        "# n = int(input())\n",
        "# def product(n):\n",
        "#     if n == 0:\n",
        "#         return 1\n",
        "#     else:\n",
        "#         return (n % 10) * product_of_digits(n // 10)\n",
        "# print(product(num))\n",
        "\n",
        "\n",
        "\n",
        "\n",
        "\n"
      ],
      "metadata": {
        "id": "4juRlja7oMBb"
      },
      "execution_count": null,
      "outputs": []
    },
    {
      "cell_type": "code",
      "source": [
        "def fib(n,arr):\n",
        "  if n==0 or n==1:\n",
        "    return n\n",
        "  if arr[n]!=-1:\n",
        "    return arr[n]\n",
        "  result=fib(n-1,arr)+fib(n-2,arr)\n",
        "  arr[n]=result\n",
        "  return result\n",
        "\n",
        "\n",
        "# n=int(input())\n",
        "# arr=[-1]*(n+1)\n",
        "# arr[1]=1\n",
        "# print()"
      ],
      "metadata": {
        "id": "jwJaJMYRqipD"
      },
      "execution_count": null,
      "outputs": []
    },
    {
      "cell_type": "code",
      "source": [
        "# XOR OPERATIONS\n",
        "a=4\n",
        "b=5\n",
        "a=a^b\n",
        "b=a^b\n",
        "a=a^b\n",
        "print(a,b)"
      ],
      "metadata": {
        "id": "zDpkPlog5jgz"
      },
      "execution_count": null,
      "outputs": []
    },
    {
      "cell_type": "code",
      "source": [
        "# GCD CODES USING  with  while loop\n",
        "a=3\n",
        "b=9\n",
        "while a!=0 and  b!=0:\n",
        "  if  a<b:\n",
        "    b=b%a\n",
        "  else:\n",
        "    a=a%b\n",
        "  if a==0:\n",
        "    print(b)\n",
        "  else:\n",
        "    print(a)"
      ],
      "metadata": {
        "id": "uLFpJX6H5kLQ"
      },
      "execution_count": null,
      "outputs": []
    },
    {
      "cell_type": "code",
      "source": [
        "# GCD  IN RECURSION  MODEL 3\n",
        "def gcd(a,b):\n",
        "  if  a==0:\n",
        "    return b\n",
        "  elif b==0:\n",
        "    return a\n",
        "  if a<b:\n",
        "    b =b%a\n",
        "    result=gcd(a,b)\n",
        "    return result\n",
        "  else:\n",
        "    a=a%b\n",
        "    result=gcd(a,b)\n",
        "    return result\n",
        "    print(result)\n",
        "a=int(input())\n",
        "b=int(input())\n",
        "print(gcd(a,b))\n",
        "\n",
        "# OPTIMIZED  CODE\n",
        "def gcd(a,b):\n",
        "    if  a==0:\n",
        "        return b\n",
        "    elif b==0:\n",
        "        return a\n",
        "    if a<b:\n",
        "        return gcd(b%a,a)\n",
        "    else:\n",
        "        return gcd(a%b,b)\n",
        "a=int(input())\n",
        "b=int(input())\n",
        "print(gcd(a,b))"
      ],
      "metadata": {
        "id": "HsJj_AMn5l6R"
      },
      "execution_count": null,
      "outputs": []
    },
    {
      "cell_type": "code",
      "source": [
        "def pnum(n,idx):\n",
        "  if n%idx==0:\n",
        "    return False\n",
        "  else:\n",
        "    if n==idx:\n",
        "      return True\n",
        "  result=pnum(n,idx+1)\n",
        "  return result\n",
        "n =int(input())\n",
        "idx=2\n",
        "print(pnum(n,idx))"
      ],
      "metadata": {
        "id": "WDBfHIBo5q8K"
      },
      "execution_count": null,
      "outputs": []
    },
    {
      "cell_type": "code",
      "source": [
        "#-------------------------------------------------------------# 13/07/2025  #-------------------------------------------------------------#"
      ],
      "metadata": {
        "id": "K4pVqBlxqi8M"
      },
      "execution_count": null,
      "outputs": []
    },
    {
      "cell_type": "code",
      "source": [
        "\n",
        "#13/7/2025 TEST PROBLEMS\n",
        "\n",
        "# SUM OF NUMBERS\n",
        "# def sum_numbers():\n",
        "#     a=map(int,input().split())\n",
        "#     print(sum(a))\n",
        "# sum_numbers()\n",
        "\n",
        "#________________________________________________________________________________\n",
        "\n",
        "# RECURSION PRODUCT\n",
        "# n = int(input(\"Enter a number: \"))\n",
        "# def product(n):\n",
        "#     if n == 0:\n",
        "#         return 1\n",
        "#     else:\n",
        "#         return (n % 10) * product(n // 10)\n",
        "# print(product(n))\n",
        "\n",
        "#________________________________________________________________________________\n",
        "\n",
        "# LAMBDA SQUARES\n",
        "# num = map(int, input(\"Enter numbers: \").split())\n",
        "# square = lambda num: num * num\n",
        "# squares = (square, num)\n",
        "# print(*squares)\n",
        "\n",
        "#________________________________________________________________________________\n",
        "\n",
        "# MAX NUMBER\n",
        "# def max(n):\n",
        "#     max = 0\n",
        "#     for i in n:\n",
        "#         if (max == 0) or (i > max):\n",
        "#             max = i\n",
        "#     print(max)\n",
        "\n",
        "# n = map(int, input(\"Enter numbers: \").split())\n",
        "# max(n)\n",
        "\n",
        "#________________________________________________________________________________\n",
        "\n",
        "# MIN-MAX RANGE USING ARGS\n",
        "# n=list(map(int,input().split()))\n",
        "# def range_diff(*args):\n",
        "#     a = max(args)\n",
        "#     b = min(args)\n",
        "#     print(a - b)\n",
        "# range_diff(*n)\n",
        "\n",
        "#________________________________________________________________________________\n",
        "\n",
        "#ARMSTRONG\n",
        "# n = int(input(\"\"))\n",
        "# temp = n\n",
        "# a = len(str(n))\n",
        "# sum = 0\n",
        "\n",
        "# while temp > 0:\n",
        "#     c = temp % 10\n",
        "#     sum += c ** a\n",
        "#     temp //= 10\n",
        "\n",
        "# if sum == n:\n",
        "#     print(\" true \")\n",
        "# else:\n",
        "#     print(\" false \")"
      ],
      "metadata": {
        "id": "KGh4sfdlmZvb"
      },
      "execution_count": null,
      "outputs": []
    },
    {
      "cell_type": "code",
      "source": [
        "#-------------------------------------------------------------# 14/07/2025  #-------------------------------------------------------------#"
      ],
      "metadata": {
        "id": "v6_XHy09mZ4Q"
      },
      "execution_count": null,
      "outputs": []
    },
    {
      "cell_type": "markdown",
      "source": [
        "#STRINGS\n"
      ],
      "metadata": {
        "id": "-8JDtbj18fB6"
      }
    },
    {
      "cell_type": "code",
      "source": [
        "# STRINGS\n",
        "# DENOTED BY \"\" OR '' & IT IS CALLED AS STR\n",
        "str=\"hello world\"\n",
        "for i in range (0,len(str)):\n",
        "  print(str[i],end='')\n"
      ],
      "metadata": {
        "id": "R3mYFRMNmXco"
      },
      "execution_count": null,
      "outputs": []
    },
    {
      "cell_type": "code",
      "source": [
        "# INITIALISATION\n",
        "# ACCESSING\n",
        "# TRAVESING\n",
        "# SOME IMP FUNCTIONS :\n",
        "# 1.)LENGHT(LEN)\n",
        "# 2.)STRING.INDEX(CHARACTER)\n",
        "      # STRING.INDEX IS USED TO FIND FIRST AND\n",
        "      # OCCURENCE OF SUBSTRING/CHARACTER IF\n",
        "      # NOT EXISTS RETURN VALUE ERROR\n",
        "#........"
      ],
      "metadata": {
        "id": "ZcN4fb-39zFn"
      },
      "execution_count": null,
      "outputs": []
    },
    {
      "cell_type": "code",
      "source": [
        "# STR LEN\n",
        "a=input()\n",
        "b=len(str(a))\n",
        "print(b)\n",
        "\n",
        "# .INDEX\n",
        "str=\"hello world\"\n",
        "sub = \"llo\"\n",
        "print(str.index(sub))\n",
        "\n",
        "# .FIND\n",
        "str=\"hello world\"\n",
        "sub = \"iru\"\n",
        "print(str.find(sub))\n",
        "\n",
        "# .ISALPHA - USED TO CHECK THE CHARACTERS ARE THERE OR NOT IN THE CODE INPUT (IT ALSO CALUCLATE SPACE ALSO)\n",
        "str=\"hello world\"\n",
        "print(str.isalpha())\n",
        "\n",
        "# .ISNUMERIC - USED TO CHECK NUMBERS\n",
        "str=\"123456789\"\n",
        "print(str.isnumeric())"
      ],
      "metadata": {
        "id": "vYwwxsya-TW0"
      },
      "execution_count": null,
      "outputs": []
    },
    {
      "cell_type": "code",
      "source": [
        "a=input()\n",
        "b=len(str(a))\n",
        "print(b)\n",
        "print(a[::-1])"
      ],
      "metadata": {
        "id": "lOnY0BlHmY28"
      },
      "execution_count": null,
      "outputs": []
    },
    {
      "cell_type": "markdown",
      "source": [
        "#LEET CODE"
      ],
      "metadata": {
        "id": "8f6Lgm3oSxL5"
      }
    },
    {
      "cell_type": "code",
      "source": [
        "#LEET CODE PROBLEMS :\n",
        "\n",
        "# PB-1\n",
        "\n",
        "#LENGHT OF LAST CHARACTER IN A STRING\n",
        "class Solution(object):\n",
        "    def lengthOfLastWord(self,s):\n",
        "        arr=s.split()\n",
        "        size=len(arr[-1])\n",
        "        return size\n",
        "\n",
        "#            OR                 #\n",
        "\n",
        "class Solution(object):\n",
        "         def lengthOfLastWord(self,s):\n",
        "            s=s.strip()\n",
        "            for i in range (len(s)-1,-1,-1):\n",
        "                if s[i]==\" \":\n",
        "                    size=len(s)-1-i\n",
        "                    return size\n",
        "            return len(s)\n",
        "#________________________________________________________________________________\n",
        "\n",
        "# PB-2\n",
        "# REVERSE OF A WORD LIKE (MADAM I AM  ADAM)\n",
        "class Solution:\n",
        "    def reverseWords(self, s: str) -> str:\n",
        "        arr=s.split()\n",
        "        str=\"\"\n",
        "        for i in range (len(arr)-1,-1,-1):\n",
        "            str=str+arr[i]+\" \"\n",
        "        return str.strip()\n",
        "\n",
        "# Taking input\n",
        "s = input(\"Enter a sentence: \")\n",
        "\n",
        "# Creating object and calling the method\n",
        "sol = Solution()\n",
        "print(\"Reversed:\", sol.reverseWords(s))\n",
        "\n",
        "#________________________________________________________________________________\n",
        "\n",
        "# PB-3\n",
        "#INDEX OF THE OCCURENCE OF A STRING\n",
        "class Solution(object):\n",
        "    def strStr(self, haystack, needle):\n",
        "        return haystack.find(needle)\n",
        "\n",
        "#                  OR                   #\n",
        "\n",
        "class Solution(object):\n",
        "    def strStr(self, haystack, needle):\n",
        "          for i in range(len(haystack)):\n",
        "             if haystack[i]==needle[0]:\n",
        "                s2=haystack[i:i+len(needle)]\n",
        "                if s2==needle:\n",
        "                    return i\n",
        "          return -1\n",
        "\n",
        "#________________________________________________________________________________\n",
        "\n",
        "#PB-4\n",
        "# SORTED\n",
        "class Solution(object):\n",
        "    def isAnagram(self, s, t):\n",
        "        return sorted(s)==sorted(t)\n",
        "\n",
        "#________________________________________________________________________________\n",
        "\n",
        "#PB-5\n",
        "#TWO SUM\n",
        "# self=int(input())\n",
        "# nums=list(map(int,input().split()))\n",
        "# target=int(input())\n",
        "def twoSum(self, nums, target):\n",
        "    for i in range(len(nums)):\n",
        "        for j in range(i+1,len(nums)):\n",
        "            f_element=nums[i]\n",
        "            s_element=nums[j]\n",
        "            sum=f_element+s_element\n",
        "            if sum==target:\n",
        "                print(i,j)\n",
        "twoSum(self,nums,target):\n",
        "\n",
        "#________________________________________________________________________________\n",
        "\n",
        "#PB-6\n",
        "#DICT USING TWO SUM\n",
        "class Solution(object):\n",
        "    def twoSum(self, nums, target):\n",
        "        dict={}\n",
        "        for i in range(len(nums)):\n",
        "            felement = nums[i]\n",
        "            selement=target-felement\n",
        "            if selement not in dict:\n",
        "                dict[felement]=i\n",
        "            else:\n",
        "                return[i,dict[selement]]\n",
        "#________________________________________________________________________________\n",
        "\n",
        "\n",
        "#PB-7\n",
        "#CONTAINS DUPLICATE\n",
        "class Solution(object):\n",
        "    def containsDuplicate(self, nums):\n",
        "        s = set()\n",
        "        for i in nums:\n",
        "            if i in s:\n",
        "                return True\n",
        "            else:\n",
        "                s.add(i)\n",
        "        return False\n"
      ],
      "metadata": {
        "id": "kJ0xWoV2mZIl"
      },
      "execution_count": null,
      "outputs": []
    },
    {
      "cell_type": "code",
      "source": [
        "def str(haystack,needle):\n",
        "  for i in range(len(haystack)):\n",
        "    if haystack[i]==needle[0]:\n",
        "      s2=haystack[i:i+len(needle)]\n",
        "      if s2==needle:\n",
        "        return i"
      ],
      "metadata": {
        "id": "B-jFkOAVa-RK"
      },
      "execution_count": null,
      "outputs": []
    },
    {
      "cell_type": "code",
      "source": [
        "#-------------------------------------------------------------# 15/07/2025  #-------------------------------------------------------------#"
      ],
      "metadata": {
        "id": "BuLYE3ePmZQO"
      },
      "execution_count": null,
      "outputs": []
    },
    {
      "cell_type": "code",
      "source": [
        "# 15/7/2025 TEST PROBLEMS\n",
        "\n",
        "#COUNT OF DIGITS IN A NUMBER\n",
        "# n=int(input())\n",
        "# def count(n):\n",
        "#     count=len(str(n))\n",
        "#     print(count)\n",
        "# count(n)\n",
        "\n",
        "#______________________________________________________________________________\n",
        "\n",
        "#TRIANGLE WITH NUMBERS\n",
        "# n = int(input())\n",
        "# for i in range(1, n + 1):\n",
        "#     for j in range(1, i + 1):\n",
        "#         print(j, end='')\n",
        "#     print()\n",
        "\n",
        "#_______________________________________________________________________________\n",
        "\n",
        "#FIBONACCI\n",
        "# n = int(input())\n",
        "# a, b = 0, 1\n",
        "# for i in range(n):\n",
        "#     print(a, end=' ')\n",
        "#     a, b = b, a + b\n",
        "\n",
        "#_______________________________________________________________________________\n",
        "\n",
        "# FIZZBUZZ\n",
        "# n=int(input())\n",
        "# i=1\n",
        "# while n<=1:\n",
        "#     a=(i%3==0)*\"Fizz\"\n",
        "#     b=(i%5==0)*\"Buzz\"\n",
        "#     c=a+b or str(i)\n",
        "#     print(c)\n",
        "#     i=i+1\n",
        "\n",
        "#_______________________________________________________________________________\n",
        "\n",
        "#SUM OF DIGITS RECURSIVE\n",
        "# num = int(input(\"Enter a number: \"))\n",
        "# def sumofdigits(n):\n",
        "#     if n == 0:\n",
        "#         return 0\n",
        "#     return n % 10 + sumofdigits(n // 10)\n",
        "# print(sumofdigits(num))"
      ],
      "metadata": {
        "id": "c0LryV1RmZYc"
      },
      "execution_count": null,
      "outputs": []
    },
    {
      "cell_type": "code",
      "source": [
        "#-------------------------------------------------------------# 16/07/2025  #-------------------------------------------------------------#"
      ],
      "metadata": {
        "id": "thYok121mZgG"
      },
      "execution_count": null,
      "outputs": []
    },
    {
      "cell_type": "code",
      "source": [
        "# 16/7/2025 TEST PROBLEMS\n",
        "\n",
        "# 8 (STRING REVERSE)\n",
        "# a=int(input())\n",
        "# b=input()\n",
        "# print(str(b)[::-1])\n",
        "\n",
        "#______________________________________________________________________________\n",
        "\n",
        "# 3 (FINDING)\n",
        "# haystack=input()\n",
        "# needle = input()\n",
        "# print(haystack.find(needle))\n",
        "\n",
        "#______________________________________________________________________________\n",
        "\n",
        "# 1 (SORTING)\n",
        "# str1 = input()\n",
        "# str2 = input()\n",
        "# print(sorted(str1) == sorted(str2))\n",
        "\n",
        "#______________________________________________________________________________\n",
        "\n",
        "\n",
        "\n",
        "\n"
      ],
      "metadata": {
        "id": "ADlsFS-aVet-"
      },
      "execution_count": null,
      "outputs": []
    },
    {
      "cell_type": "markdown",
      "source": [
        "#ARRAYS & LISTS"
      ],
      "metadata": {
        "id": "ahhCYkS9eFJr"
      }
    },
    {
      "cell_type": "code",
      "source": [
        "#ARRAYS:\n",
        "# Fixed size: Once declared, the size of an array cannot be changed\n",
        "# Insertion and deletion are costly as shifting elements is required\n",
        "\n",
        "#______________________________________________________________________________\n",
        "\n",
        "\n",
        "#LISTS:\n",
        "# ESSENTIAL STEPS TO IMPLEMENT LISTS\n",
        "# 1.INITIALISATION\n",
        "# 2.INPUT / OUTPUT\n",
        "# 3.TRAVESING\n",
        "# 4.ADDING & DELETING ELEMENTS\n",
        "\n",
        "#______________________________________________________________________________\n",
        "\n",
        "# 1.INITIALISATION :\n",
        "      # 1. list Name=[]\n",
        "      # 2. list =[default value]*size\n",
        "\n",
        "#Ex:\n",
        "list=[0]*10\n",
        "print(list)\n",
        "\n",
        "#______________________________________________________________________________\n",
        "\n",
        "# 2.INPUT / OUTPUT:\n",
        "\n",
        "\n",
        "# var = input()\n",
        "# var2=var.split(\" \")\n",
        "# print(var2)\n",
        "# var3=map(int,var2)\n",
        "# print(list(var3))\n",
        "# var4= list(var3)\n",
        "# print(var4)\n",
        "\n",
        "#  FOR INPUT\n",
        "# var3=map(int,input().split(\" \"))\n",
        "# FOR OUTPUT\n",
        "# for i in range (len(var3)):\n",
        "  # print(var3[i],end=\" \")\n",
        "\n",
        "#______________________________________________________________________________\n",
        "\n",
        "# 3.TRAVESING\n",
        "list=[1,2,3]\n",
        "for i in list :\n",
        "  print(i)\n",
        "\n",
        "#______________________________________________________________________________\n",
        "\n",
        "# 4.ADDING & DELETING ELEMENTS\n",
        "# #METHOD TO INSERT A ELEMENT IN LIST\n",
        "list.append(element)\n",
        "# #METHOD TO DELETE A ELEMENT IN LIST\n",
        "list.pop(index)\n",
        "#METHOD TO INSERT A ELEMENT AT A PARTICULAR INDEX\n",
        "list.insert(index,element)\n"
      ],
      "metadata": {
        "id": "VC9WwXBVaqjR"
      },
      "execution_count": null,
      "outputs": []
    },
    {
      "cell_type": "code",
      "source": [
        "# SORTED LIST\n",
        "\n",
        "list=[1,9,8,4,0]\n",
        "list.sort()\n",
        "print(list)\n",
        "\n",
        "    #or\n",
        "\n",
        "list=[1,9,8,4,0]\n",
        "list.sort()\n",
        "list2=sorted(list)\n",
        "print(list)\n",
        "print(list2)"
      ],
      "metadata": {
        "id": "44EiSVJHaq6x"
      },
      "execution_count": null,
      "outputs": []
    },
    {
      "cell_type": "code",
      "source": [
        "#-------------------------------------------------------------# 17/07/2025  #-------------------------------------------------------------#"
      ],
      "metadata": {
        "id": "1z6in24DarBV"
      },
      "execution_count": null,
      "outputs": []
    },
    {
      "cell_type": "code",
      "source": [
        "# 17/7/2025 TEST PROBLEMS\n",
        "\n",
        "#Find Maximum of two numbers in Python\n",
        "# a=int(input())\n",
        "# b=int(input())\n",
        "# if a>b:\n",
        "#     print(a)\n",
        "# else:\n",
        "#     print(b)\n",
        "\n",
        "#______________________________________________________________________________\n",
        "\n",
        "# MOVE ZEROS\n",
        "# n=int(input())\n",
        "# num=list(map(int,input().split()))\n",
        "# j=0\n",
        "# for i in range(n):\n",
        "#     if num[i]!=0:\n",
        "#         num[i],num[j]=num[j],num[i]\n",
        "#         j+=1\n",
        "# print(*num)"
      ],
      "metadata": {
        "id": "ywr9SZTYarPe"
      },
      "execution_count": null,
      "outputs": []
    },
    {
      "cell_type": "markdown",
      "source": [
        "TUPLES\n"
      ],
      "metadata": {
        "id": "Jk1BKp0venWY"
      }
    },
    {
      "cell_type": "code",
      "source": [
        "#TUPLES\n",
        "#representation : (element)\n",
        "# 1.INITIALISATION = [variable=tuple(int,input().split())]\n",
        "# 2.TRAVESING\n",
        "\n",
        "# to get faster performance we use tuple\n",
        "# tuple contains count & find functions only compare to list it contains add,pop,append,count,find.\n",
        "\n"
      ],
      "metadata": {
        "id": "2iBJS874arSe"
      },
      "execution_count": null,
      "outputs": []
    },
    {
      "cell_type": "code",
      "source": [
        "#-------------------------------------------------------------# 18/07/2025  #-------------------------------------------------------------#"
      ],
      "metadata": {
        "id": "GJ9sC0oZarWl"
      },
      "execution_count": null,
      "outputs": []
    },
    {
      "cell_type": "code",
      "source": [
        "#18/7/2025 TEST PROBLEMS\n",
        "\n",
        "# MODULO OF TUPLE ELEMENTS\n",
        "# a = tuple(map(int, input().split()))\n",
        "# result = a[0]\n",
        "# for i in a[1:]:\n",
        "#     result=result % i\n",
        "# print(result)\n",
        "\n",
        "#______________________________________________________________________________\n",
        "\n",
        "# XOR TUPLE OPERATIONS\n",
        "# a = tuple(map(int, input().split()))\n",
        "# result = a[0]\n",
        "# for i in a[1:]:\n",
        "#     result=result^i\n",
        "# print(result)\n",
        "\n",
        "#______________________________________________________________________________\n",
        "\n",
        "#INTERSECTION OF TWO TUPLES\n",
        "# a = input().split()\n",
        "# b = input().split()\n",
        "# c = []\n",
        "# for x in a:\n",
        "#     if x in b:\n",
        "#         c.append(x)\n",
        "\n",
        "# c = tuple(c)\n",
        "# print(c)\n",
        "\n",
        "#______________________________________________________________________________\n",
        "\n",
        "#CONVERT BINARY TUPLE TO INTEGER\n",
        "# a = tuple(input().split())\n",
        "# b = ''.join(a)\n",
        "# c = int(b, 2)\n",
        "# print(c)\n",
        "\n",
        "#______________________________________________________________________________\n",
        "\n",
        "#USING TUPLES BITWISE END OPERATIONS\n",
        "# n=tuple(map(int,input().split()))\n",
        "# m=tuple(map(int,input().split()))\n",
        "# result=[]\n",
        "# for i in range (len(n)):\n",
        "#     result.append(n[i] & m[i])\n",
        "# result=tuple(result)\n",
        "# print(result)\n",
        "#______________________________________________________________________________\n"
      ],
      "metadata": {
        "id": "hi62em9sarZh"
      },
      "execution_count": null,
      "outputs": []
    },
    {
      "cell_type": "markdown",
      "source": [
        "#HASH & DICT\n"
      ],
      "metadata": {
        "id": "X447xkV-47i5"
      }
    },
    {
      "cell_type": "code",
      "source": [
        "#  HASH MAP :\n",
        "\n",
        "# COMPARASION :\n",
        "#                         LIST                            HASH MAP\n",
        "\n",
        "#  1.INITIALISATION       l=[]                            dict={}\n",
        "\n",
        "#  2. DELETE              list.pop(0)                     dict.pop(0)\n",
        "\n",
        "#     ADD                                                 dict{0}+1\n",
        "\n",
        "\n",
        "#DICTONARIES\n",
        "\n",
        "\n",
        "#DICT USING TWO SUM\n",
        "# class Solution(object):\n",
        "#     def twoSum(self, nums, target):\n",
        "#         dict={}\n",
        "#         for i in range(len(nums)):\n",
        "#             felement = nums[i]\n",
        "#             selement=target-felement\n",
        "#             if selement not in dict:\n",
        "#                 dict[felement]=i\n",
        "#             else:\n",
        "#                 return[i,dict[selement]]\n",
        "\n",
        "# .items = used for all items to print in tuple\n",
        "# .keys = used for all keys to print in tuple\n",
        "# .values = used for all values to print in tuple\n",
        "\n",
        "\n",
        "# EX :\n",
        "\n",
        "dict={}\n",
        "dict[0]=2\n",
        "dict[1]=4\n",
        "dict[2]=6\n",
        "dict[3]=8\n",
        "dict[4]=10\n",
        "print(dict)\n",
        "print()\n",
        "\n",
        "for items in dict.items():\n",
        "  print(items)\n",
        "print()\n",
        "\n",
        "for keys in dict.keys():\n",
        "  print(keys)\n",
        "print()\n",
        "\n",
        "for values in dict.values():\n",
        "  print(values)"
      ],
      "metadata": {
        "id": "f1cqVt0garcg",
        "colab": {
          "base_uri": "https://localhost:8080/"
        },
        "outputId": "0f6b08ec-603f-46ee-b070-ee56b10e905d"
      },
      "execution_count": null,
      "outputs": [
        {
          "output_type": "stream",
          "name": "stdout",
          "text": [
            "{0: 2, 1: 4, 2: 6, 3: 8, 4: 10}\n",
            "\n",
            "(0, 2)\n",
            "(1, 4)\n",
            "(2, 6)\n",
            "(3, 8)\n",
            "(4, 10)\n",
            "\n",
            "0\n",
            "1\n",
            "2\n",
            "3\n",
            "4\n",
            "\n",
            "2\n",
            "4\n",
            "6\n",
            "8\n",
            "10\n"
          ]
        }
      ]
    },
    {
      "cell_type": "code",
      "source": [
        "#-------------------------------------------------------------# 21/07/2025  #-------------------------------------------------------------#"
      ],
      "metadata": {
        "id": "AwETSUAG693U"
      },
      "execution_count": null,
      "outputs": []
    },
    {
      "cell_type": "code",
      "source": [
        "#21/07/2025 TEST PROBLEMS\n",
        "\n",
        "#REPEATIVE ADDITION OF NUMBERS:\n",
        "# n = input()\n",
        "# m = 0\n",
        "# for i in n:\n",
        "#     m += int(i)\n",
        "# k = 0\n",
        "# for i in str(m):\n",
        "#     k += int(i)\n",
        "# b = 0\n",
        "# for i in str(k):\n",
        "#     b += int(i)\n",
        "\n",
        "# print(b)\n",
        "\n",
        "#------------------------------------------------------------------------\n",
        "\n",
        "#SLICING\n",
        "# n=int(input())\n",
        "# num=list(map(int,input().split()))\n",
        "# i,j=map(int,input().split())\n",
        "# print(num[i:j])\n",
        "\n",
        "#-----------------------------------------------------------------------\n",
        "\n",
        "#FACTORIAL\n",
        "# import math\n",
        "# n = int(input())\n",
        "# print(math.factorial(n))\n",
        "\n",
        "#-----------------------------------------------------------------------\n",
        "\n",
        "#PRIME\n",
        "# def fact(n):\n",
        "#     if n==1:\n",
        "#         print(\"\")\n",
        "#     else:\n",
        "#         fact=0\n",
        "#         for i in range(2,n+1):\n",
        "#             if n%i==0:\n",
        "#                 fact+=1\n",
        "#     if fact<2:\n",
        "#         print(\"true\")\n",
        "#     else:\n",
        "#         print(\"false\")\n",
        "# n=int(input())\n",
        "# fact(n)\n",
        "\n",
        "#--------------------------------------------------------------------------\n",
        "\n",
        "#Python program to find tuples which have all elements divisible by K from a list of tuples\n",
        "# n = int(input())\n",
        "\n",
        "# data = []\n",
        "# for i in range(n):\n",
        "#     row = list(map(int, input().split()))\n",
        "#     data.append(row)\n",
        "\n",
        "# k = int(input())\n",
        "\n",
        "# result = []\n",
        "# for row in data:\n",
        "#     for num in row:\n",
        "#         if num % k != 0:\n",
        "#             break\n",
        "#     else:\n",
        "#         result.append(row)\n",
        "\n",
        "# for r in result:\n",
        "#     print(*r)\n"
      ],
      "metadata": {
        "id": "YXxO7HaP6_0j"
      },
      "execution_count": null,
      "outputs": []
    },
    {
      "cell_type": "markdown",
      "source": [
        "#SETS\n"
      ],
      "metadata": {
        "id": "eghD-J809AE8"
      }
    },
    {
      "cell_type": "code",
      "source": [
        "#SETS\n",
        "# A set is a datastructure which doesnot containing duplicate elements and indexing is not possible and it contains unordered elements\n",
        "# .union : used for finding union\n",
        "# .intersection : used for finding intersection\n",
        "# .difference : used for finding difference\n",
        "# .symmetric_difference : used for finding symmetric difference\n",
        "\n",
        "# Set initialisation:\n",
        "# s1=set(object(ex:list,tuple,dict))\n",
        "# print(s1)\n",
        "\n",
        "#set input taking :\n",
        "# list=list(map(int,input().split()))\n",
        "# s1=set(list)\n",
        "# print(s1) #output\n",
        "\n",
        "#Travesing:\n",
        "# for i in s :\n",
        "#   print(s)\n",
        "\n",
        "# Adding / Deleting :\n",
        "# s1=set()\n",
        "# s1.add(2)\n",
        "# s1.remove(2) instead of this we use .discard for removing element if present and dicard if not\n",
        "# print(s1)"
      ],
      "metadata": {
        "id": "1Jtn6bEk6_xE"
      },
      "execution_count": null,
      "outputs": []
    },
    {
      "cell_type": "code",
      "source": [
        "s1=set([1,2,3,4])\n",
        "s2=set([2,3,4,5])\n",
        "s3=s1.add(6)\n",
        "s4=s2.remove(5)\n",
        "print(s1.union(s2))\n",
        "print(s1.intersection(s2))\n",
        "print(s1.difference(s2))\n",
        "print(s1.symmetric_difference(s2))\n",
        "print(s3)\n",
        "print(s4)"
      ],
      "metadata": {
        "colab": {
          "base_uri": "https://localhost:8080/"
        },
        "id": "P4CIseX1B_hJ",
        "outputId": "6b318004-49e9-4871-aa22-7349df75b57f"
      },
      "execution_count": null,
      "outputs": [
        {
          "output_type": "stream",
          "name": "stdout",
          "text": [
            "{1, 2, 3, 4, 6}\n",
            "{2, 3, 4}\n",
            "{1, 6}\n",
            "{1, 6}\n",
            "None\n",
            "None\n"
          ]
        }
      ]
    },
    {
      "cell_type": "code",
      "source": [
        "#-------------------------------------------------------------# 22/07/2025  #-------------------------------------------------------------#"
      ],
      "metadata": {
        "id": "13Yv3IG_6_ub"
      },
      "execution_count": null,
      "outputs": []
    },
    {
      "cell_type": "code",
      "source": [
        "#22/07/2025 TEST PROBLEMS\n",
        "# FINDING VOWELS\n",
        "# n = input(\"Enter a string: \").lower()\n",
        "# vowels = ['a', 'e', 'i', 'o', 'u']\n",
        "\n",
        "# if all(vowel in n for vowel in vowels):\n",
        "#     print(\"true\")\n",
        "# else:\n",
        "#     print(\"false\")\n"
      ],
      "metadata": {
        "id": "qJW3VrqT6_sk"
      },
      "execution_count": null,
      "outputs": []
    },
    {
      "cell_type": "code",
      "source": [
        "#-------------------------------------------------------------# 23/07/2025  #-------------------------------------------------------------#"
      ],
      "metadata": {
        "id": "ceQrOOXL6_qC"
      },
      "execution_count": null,
      "outputs": []
    },
    {
      "cell_type": "markdown",
      "source": [
        "#LIST COMPHERENSION AND SET COMPHERSENTATION\n"
      ],
      "metadata": {
        "id": "1Qq33TY2Ow9P"
      }
    },
    {
      "cell_type": "code",
      "source": [
        "#LIST COMPHERENSION\n",
        "\n",
        "#SYNTAX :\n",
        "# list=[expression for item in range()]\n",
        "# print(list)\n",
        "\n",
        "#EX :\n",
        "l=[]\n",
        "for i in range (1,11):\n",
        "  l.append(i)\n",
        "print(l)"
      ],
      "metadata": {
        "colab": {
          "base_uri": "https://localhost:8080/"
        },
        "id": "zw48a8OqOmk8",
        "outputId": "6f7ee917-fa33-4ffa-c16f-8771f6d07f44"
      },
      "execution_count": 3,
      "outputs": [
        {
          "output_type": "stream",
          "name": "stdout",
          "text": [
            "[1, 2, 3, 4, 5, 6, 7, 8, 9, 10]\n"
          ]
        }
      ]
    },
    {
      "cell_type": "code",
      "source": [
        "# BRUTE FORCE WITH OUT LIST COMPHERENSION\n",
        "l=[]\n",
        "st=1\n",
        "end=100\n",
        "for i in range(st,end+1):\n",
        "  if i%2==0:\n",
        "    l.append(i)\n",
        "print(l)\n",
        "\n",
        "\n",
        "#USING LIST COMPHERENSION\n",
        "st=1\n",
        "end=100\n",
        "l=[i for i in range(st,end+1)if i%2==0]\n",
        "print(l)"
      ],
      "metadata": {
        "colab": {
          "base_uri": "https://localhost:8080/"
        },
        "id": "DSzA2CEqQpos",
        "outputId": "4cc47bc5-3431-4d04-ac08-50c243136b5a"
      },
      "execution_count": 6,
      "outputs": [
        {
          "output_type": "stream",
          "name": "stdout",
          "text": [
            "[2, 4, 6, 8, 10, 12, 14, 16, 18, 20, 22, 24, 26, 28, 30, 32, 34, 36, 38, 40, 42, 44, 46, 48, 50, 52, 54, 56, 58, 60, 62, 64, 66, 68, 70, 72, 74, 76, 78, 80, 82, 84, 86, 88, 90, 92, 94, 96, 98, 100]\n",
            "[2, 4, 6, 8, 10, 12, 14, 16, 18, 20, 22, 24, 26, 28, 30, 32, 34, 36, 38, 40, 42, 44, 46, 48, 50, 52, 54, 56, 58, 60, 62, 64, 66, 68, 70, 72, 74, 76, 78, 80, 82, 84, 86, 88, 90, 92, 94, 96, 98, 100]\n"
          ]
        }
      ]
    },
    {
      "cell_type": "code",
      "source": [
        "#TO PRINT PRIME NUMBERS\n",
        "def isprime(n):\n",
        "  for i in range(2,n):\n",
        "    if n%i==0:\n",
        "      return False\n",
        "  return True\n",
        "n=int(input())\n",
        "l=[i for i in range(2,n+1)if isprime (i)==True]\n",
        "print(l)"
      ],
      "metadata": {
        "colab": {
          "base_uri": "https://localhost:8080/"
        },
        "id": "3dtbtUcUVNTp",
        "outputId": "155c0685-f56f-4272-ecf6-d70f4f36c092"
      },
      "execution_count": 8,
      "outputs": [
        {
          "output_type": "stream",
          "name": "stdout",
          "text": [
            "20\n",
            "[2, 3, 5, 7, 11, 13, 17, 19]\n"
          ]
        }
      ]
    },
    {
      "cell_type": "code",
      "source": [
        "n=int(input())\n",
        "l=[i for i in range(2,n+1)if all (i%j!=0 for j in range(2,i))]\n",
        "print(l)"
      ],
      "metadata": {
        "colab": {
          "base_uri": "https://localhost:8080/"
        },
        "id": "CIlvo7t5RngU",
        "outputId": "6bc2fd15-268e-4824-9706-44cc3cbaeba1"
      },
      "execution_count": 7,
      "outputs": [
        {
          "output_type": "stream",
          "name": "stdout",
          "text": [
            "29\n",
            "[2, 3, 5, 7, 11, 13, 17, 19, 23, 29]\n"
          ]
        }
      ]
    },
    {
      "cell_type": "code",
      "source": [
        "# N^2 TO PRINT N SQUARES\n",
        "n = int(input())\n",
        "squares = [i * i for i in range(1, n + 1)]\n",
        "print(squares)\n"
      ],
      "metadata": {
        "colab": {
          "base_uri": "https://localhost:8080/"
        },
        "id": "_3ZKI7dkWdEg",
        "outputId": "1d027a86-9dc8-44f5-db75-91c85abb9c09"
      },
      "execution_count": 11,
      "outputs": [
        {
          "output_type": "stream",
          "name": "stdout",
          "text": [
            "40\n",
            "[1, 4, 9, 16, 25, 36, 49, 64, 81, 100, 121, 144, 169, 196, 225, 256, 289, 324, 361, 400, 441, 484, 529, 576, 625, 676, 729, 784, 841, 900, 961, 1024, 1089, 1156, 1225, 1296, 1369, 1444, 1521, 1600]\n"
          ]
        }
      ]
    },
    {
      "cell_type": "code",
      "source": [
        "#SET COMPHERENSION\n",
        "#SYNTAX :\n",
        "# list={expression for item in range()}\n",
        "# print(list)\n",
        "\n",
        "\n",
        "n = int(input())\n",
        "squares = {i * i for i in range(1, n + 1)}\n",
        "print(squares)"
      ],
      "metadata": {
        "colab": {
          "base_uri": "https://localhost:8080/"
        },
        "id": "gI7fe7aUXgti",
        "outputId": "99dab786-7255-4608-f4d6-c30aa852c173"
      },
      "execution_count": 12,
      "outputs": [
        {
          "output_type": "stream",
          "name": "stdout",
          "text": [
            "20\n",
            "{256, 1, 4, 9, 16, 144, 400, 25, 289, 36, 169, 49, 64, 196, 324, 81, 225, 100, 361, 121}\n"
          ]
        }
      ]
    },
    {
      "cell_type": "markdown",
      "source": [
        "#MATRIX\n"
      ],
      "metadata": {
        "id": "Uncm9sjtX3tG"
      }
    },
    {
      "cell_type": "code",
      "source": [
        "#MATRIX\n",
        "matrix=[[1,21,3],\n",
        "        [4,51,6],\n",
        "        [7,8,9]]\n",
        "print(matrix[0])\n",
        "print(matrix[0][0])\n",
        "print(matrix[0][1])\n",
        "print(matrix[0][1])"
      ],
      "metadata": {
        "colab": {
          "base_uri": "https://localhost:8080/"
        },
        "id": "y963b7XSX0uJ",
        "outputId": "09903112-83f7-45b4-c219-44cec6c265b1"
      },
      "execution_count": 20,
      "outputs": [
        {
          "output_type": "stream",
          "name": "stdout",
          "text": [
            "[1, 21, 3]\n",
            "1\n",
            "21\n"
          ]
        }
      ]
    },
    {
      "cell_type": "code",
      "source": [
        "#BRUTE FORCE\n",
        "matrix=[[1,2,3],\n",
        "        [4,5,6],\n",
        "        [7,8,9]]\n",
        "for i in range (len(matrix[0])):\n",
        "  print(matrix[0][i],end=\" \")\n",
        "print()\n",
        "for i in range (len(matrix[1])):\n",
        "  print(matrix[1][i],end=\" \")\n",
        "print()\n",
        "for i in range (len(matrix[2])):\n",
        "  print(matrix[2][i],end=\" \")"
      ],
      "metadata": {
        "colab": {
          "base_uri": "https://localhost:8080/"
        },
        "id": "LW5grCPzdCq0",
        "outputId": "d8f8f699-fc70-4314-e5f8-8cdf2fe0d93e"
      },
      "execution_count": 24,
      "outputs": [
        {
          "output_type": "stream",
          "name": "stdout",
          "text": [
            "1 2 3 \n",
            "4 5 6 \n",
            "7 8 9 "
          ]
        }
      ]
    },
    {
      "cell_type": "code",
      "source": [
        "#OPTIMIZED CODE\n",
        "matrix=[[1,2,3],\n",
        "        [4,5,6],\n",
        "        [7,8,9]]\n",
        "for j in range (len(matrix)):\n",
        "  for i in range (len(matrix[0])):\n",
        "    print(matrix[j][i],end=\" \")\n",
        "  print()"
      ],
      "metadata": {
        "colab": {
          "base_uri": "https://localhost:8080/"
        },
        "id": "T42KZm1ofWfB",
        "outputId": "00071f33-6ab0-4376-df51-879fe41bd3de"
      },
      "execution_count": 25,
      "outputs": [
        {
          "output_type": "stream",
          "name": "stdout",
          "text": [
            "1 2 3 \n",
            "4 5 6 \n",
            "7 8 9 \n"
          ]
        }
      ]
    },
    {
      "cell_type": "code",
      "source": [
        "m=[]\n",
        "n=int(input())\n",
        "for i in range(n):\n",
        "  l=list(map(int,input().split()))\n",
        "  m.append(l)\n",
        "print(m)"
      ],
      "metadata": {
        "colab": {
          "base_uri": "https://localhost:8080/"
        },
        "id": "4NeCdCtZhlrj",
        "outputId": "0b52cc31-c405-46ce-f5a5-9c2d8cd7a689"
      },
      "execution_count": 26,
      "outputs": [
        {
          "output_type": "stream",
          "name": "stdout",
          "text": [
            "3\n",
            "1 2 3\n",
            "4 5 6\n",
            "7 8 9\n",
            "[[1, 2, 3], [4, 5, 6], [7, 8, 9]]\n"
          ]
        }
      ]
    },
    {
      "cell_type": "code",
      "source": [
        "n=int(input())\n",
        "m=[list(map(int,input().split()))for i in range(n)]\n",
        "print(m )"
      ],
      "metadata": {
        "colab": {
          "base_uri": "https://localhost:8080/"
        },
        "id": "xQD8rbrpi7Al",
        "outputId": "c5c94ec8-608b-40b6-8326-b189b66247b4"
      },
      "execution_count": 27,
      "outputs": [
        {
          "output_type": "stream",
          "name": "stdout",
          "text": [
            "3\n",
            "1 2 3\n",
            "4 5 6\n",
            "7 8 9\n",
            "[[1, 2, 3], [4, 5, 6], [7, 8, 9]]\n"
          ]
        }
      ]
    },
    {
      "cell_type": "code",
      "source": [
        "matrix = [[1, 2, 3], [4, 5, 6], [7, 8, 9]]\n",
        "l = []\n",
        "\n",
        "for i in matrix:\n",
        "    for j in i:\n",
        "        l.append(j)\n",
        "\n",
        "print(l)\n"
      ],
      "metadata": {
        "colab": {
          "base_uri": "https://localhost:8080/"
        },
        "id": "968BwVXrozDI",
        "outputId": "a58851ba-4ca7-40f1-b3bb-abfdc9d3ba11"
      },
      "execution_count": 29,
      "outputs": [
        {
          "output_type": "stream",
          "name": "stdout",
          "text": [
            "[1, 2, 3, 4, 5, 6, 7, 8, 9]\n"
          ]
        }
      ]
    }
  ]
}